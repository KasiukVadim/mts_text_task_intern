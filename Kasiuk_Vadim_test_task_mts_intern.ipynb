{
  "nbformat": 4,
  "nbformat_minor": 0,
  "metadata": {
    "colab": {
      "provenance": []
    },
    "kernelspec": {
      "name": "python3",
      "display_name": "Python 3"
    },
    "language_info": {
      "name": "python"
    }
  },
  "cells": [
    {
      "cell_type": "markdown",
      "source": [
        "**Общий пайплайн решения такой:**\n",
        "\n",
        "0) Скачиваем данные, смотрим на них глазами\n",
        "\n",
        "1) Делаем предобработку данных\n",
        "\n",
        "2) Делаем обратку NER\n",
        "\n",
        "3) Обрабатываем особенности\n",
        "\n",
        "4) Постобработка\n",
        "\n",
        "5) Сохраняем результат"
      ],
      "metadata": {
        "id": "5zlgS5uguLsu"
      }
    },
    {
      "cell_type": "markdown",
      "source": [
        "# Этап 0 : Скачиваем данные\n",
        "\n",
        "Я работаю в колабе, поэтому предварительно загрузил csv файл на гугл диск и буду его вытаскивать оттуда."
      ],
      "metadata": {
        "id": "-s3hzDgKurko"
      }
    },
    {
      "cell_type": "code",
      "source": [
        "from google.colab import drive\n",
        "drive.mount('/content/drive')"
      ],
      "metadata": {
        "id": "9v59szanxxrv",
        "colab": {
          "base_uri": "https://localhost:8080/"
        },
        "outputId": "ccc10121-95ee-4f9e-e7d9-fa35ccc213f0"
      },
      "execution_count": 1,
      "outputs": [
        {
          "output_type": "stream",
          "name": "stdout",
          "text": [
            "Mounted at /content/drive\n"
          ]
        }
      ]
    },
    {
      "cell_type": "code",
      "source": [
        "file_path = \"/content/drive/MyDrive/analyzer_analyzer_urls.csv\"\n",
        "\n",
        "import pandas as pd\n",
        "\n",
        "df = pd.read_csv(file_path)"
      ],
      "metadata": {
        "id": "RP_a9EkaimFI"
      },
      "execution_count": 2,
      "outputs": []
    },
    {
      "cell_type": "markdown",
      "source": [
        "Смотрим на форму данных и на то, что они из себя представляют"
      ],
      "metadata": {
        "id": "0G1WzLpKu-Br"
      }
    },
    {
      "cell_type": "code",
      "source": [
        "print(df.shape)\n",
        "print(df.columns.to_list())"
      ],
      "metadata": {
        "colab": {
          "base_uri": "https://localhost:8080/"
        },
        "id": "lbO_4mzblGZy",
        "outputId": "dadd7028-dc40-42d3-e3ee-21c351a96115"
      },
      "execution_count": 3,
      "outputs": [
        {
          "output_type": "stream",
          "name": "stdout",
          "text": [
            "(9999, 2)\n",
            "['http://0-9.ru', '<html><head>\\n        <meta name=\"viewport\" content=\"width=device-width, initial-scale=1.0\">\\n        <title>Домен продается. Купить в магазине доменов RU-CENTER</title>\\n        <meta name=\"description\" content=\"Узнать подробнее о домене в магазине доменов RU-CENTER.\">\\n        <meta name=\"keywords\" content=\"домен, регистрация доменов, РФ, RU, COM, аукцион доменов, хостинг, почта, освобождающиеся домены\">\\n        <meta name=\"application-name\" content=\"nic.ru\">\\n        <meta name=\"robots\" content=\"noyaca\">\\n        <meta name=\"msapplication-square70x70logo\" content=\"/favicon_70x70.png\">\\n        <meta name=\"msapplication-square150x150logo\" content=\"/favicon_150x150.png\">\\n        <meta name=\"msapplication-wide310x150logo\" content=\"/favicon_310x150.png\">\\n        <meta name=\"msapplication-square310x310logo\" content=\"/favicon_310x310.png\">\\n        <meta property=\"og:title\" id=\"title\" content=\"Домен продается. Купить в магазине доменов RU-CENTER\">\\n        <meta property=\"og:description\" id=\"description\" content=\"Узнать подробнее о домене в магазине доменов RU-CENTER.\">\\n        <meta name=\"twitter:card\" content=\"summary_large_image\">\\n        <meta name=\"twitter:site\" content=\"@ru_nic\">\\n        <meta name=\"twitter:title\" content=\" Домен продается. Купить в магазине доменов RU-CENTER \">\\n        <meta name=\"twitter:description\" content=\" Узнать подробнее о домене в магазине доменов RU-CENTER.\">\\n        <meta name=\"twitter:image\" content=\"https://storage.nic.ru/ru/images/jpg/zaglushkapark.jpg\">\\n        <meta property=\"og:image\" content=\"https://storage.nic.ru/ru/images/jpg/zaglushkapark.jpg\">\\n        \\n        <link rel=\"icon\" type=\"image/png\" href=\"https://www.nic.ru/favicon.png\">\\n        <link rel=\"icon\" type=\"image/png\" sizes=\"192x192\" href=\"https://www.nic.ru/favicon_192x192.png\">\\n        <link rel=\"apple-touch-icon\" type=\"image/png\" href=\"https://www.nic.ru/favicon_192x192.png\">\\n        <link rel=\"apple-touch-icon\" type=\"image/png\" sizes=\"152x152\" href=\"https://www.nic.ru/favicon_152x152.png\">\\n        <link rel=\"apple-touch-icon\" type=\"image/png\" sizes=\"167x167\" href=\"https://www.nic.ru/favicon_167x167.png\">\\n        <link rel=\"apple-touch-icon\" type=\"image/png\" sizes=\"180x180\" href=\"https://www.nic.ru/favicon_180x180.png\">\\n        <link rel=\"preload\" href=\"/static/frontend-entry/bundle.7709dbece824ed81e2fa.bundle.js\" as=\"script\">\\n        <link rel=\"preconnect\" href=\"https://mc.yandex.ru\">\\n        <link rel=\"preconnect\" href=\"https://www.google.ru\">\\n        <link rel=\"preconnect\" href=\"https://www.google.com\">\\n        <link rel=\"preconnect\" href=\"https://www.google-analytics.com\">\\n        <link rel=\"preconnect\" href=\"https://www.googletagmanager.com\">\\n        <link rel=\"preconnect\" href=\"https://stats.g.doubleclick.net\">\\n        <meta name=\"theme-color\" content=\"#ffffff\">\\n        <!-- Google Analytics -->\\n        <!-- <script>window.user_id = \\'8739050\\';</script>-->\\n        <!-- <script>window.login = \\'2709010/NIC-D/adm\\';</script>-->\\n        <!-- <script>-->\\n        <!-- !function(e,a,n,i,o,s){e.GoogleAnalyticsObject=i,e.ga=e.ga||function(){(e.ga.q=e.ga.q||[]).push(arguments)},e.ga.l=+new Date,o=a.createElement(n),s=a.getElementsByTagName(n)[0],o.async=1,o.src=\"//www.google-analytics.com/analytics.js\",s.parentNode.insertBefore(o,s)}(window,document,\"script\",\"ga\"),ga(\"create\",\"UA-54851853-1\",\"auto\"),ga(function(e){var a=e.get(\"clientId\");document.cookie=\"_ga_cid=\"+a+\"; path=/\",ga(\"set\",\"dimension3\",a)}),window.user_id&&(ga(\"set\",\"&uid\",window.user_id),ga(\"set\",\"dimension4\",window.user_id)),ga(\"set\",\"dimension2\",window.login?\"User\":\"Guest\"),window.send_ab_split_ga_events&&(window.ab_split_ga_group?ga(\"set\",\"dimension5\",\"groupB\"):ga(\"set\",\"dimension5\",\"groupA\"));var path=location.pathname+location.search+location.hash;path=path.replace(/(login=|personRu=|personEn=|email=|password=|passwd=|pass=|resend=|phone=)([^&]*)/gi,\"$1[edited]\"),ga(\"send\",\"pageview\",path);-->\\n        <!-- </script>-->\\n        <!-- End Google Analytics -->\\n        <link rel=\"shortcut icon\" href=\"/favicon.ico\">\\n        \\n        <script type=\"text/javascript\" async=\"\" src=\"https://www.googletagmanager.com/gtag/js?id=G-1X3G5S3G44&amp;cx=c&amp;_slc=1\"></script><script type=\"text/javascript\" async=\"\" src=\"https://www.googletagmanager.com/gtag/js?id=G-YBVZ79X7XD&amp;cx=c&amp;_slc=1\"></script><script type=\"text/javascript\" async=\"\" src=\"https://www.google-analytics.com/analytics.js\"></script><script async=\"\" src=\"https://mc.yandex.ru/metrika/tag.js\"></script><script async=\"\" src=\"https://www.googletagmanager.com/gtm.js?id=GTM-NQPPJQV\"></script><script async=\"\" src=\"https://www.google-analytics.com/analytics.js\"></script><script type=\"text/javascript\" src=\"/static/frontend-entry/bundle.7709dbece824ed81e2fa.bundle.js\"></script>\\n        \\n        <!-- Переехало в frontend-scripts в рамках RCWEB-10158-->\\n        <!-- <script async type=\"text/javascript\" src=\"https://mc.yandex.ru/metrika/tag.js\"></script>-->\\n        <!-- <script async type=\"text/javascript\" src=\"https://www.google-analytics.com/analytics.js\"></script>-->\\n        <!-- <script async type=\"text/javascript\" src=\"https://www.googletagmanager.com/gtm.js?id=GTM-K9MTVC\"></script-->\\n\\n        <script src=\"https://www.nic.ru/scripts/external.bundle.js?1696067404556\" defer=\"\"></script>\\n        <script src=\"https://www.nic.ru/scripts/internal.bundle.js?1696067404556\" defer=\"\"></script>\\n        <script async=\"\" type=\"text/javascript\" src=\"https://www.googletagmanager.com/gtag/js?id=G-7LJ3G8P6NN&amp;l=dataLayer&amp;cx=c\"></script>\\n        <style>\\n          body {\\n            display: flex;\\n            flex-direction: column;\\n            box-sizing: border-box;\\n            background-color: #FAFAFA;\\n            margin: 0;\\n          }\\n\\n          @font-face {\\n            font-family: \\'Noto Sans\\';\\n            font-style: normal;\\n            font-weight: 400;\\n            font-display: swap;\\n            src: local(\\'Noto Sans\\'), local(\\'NotoSans\\'), url(\"/static/frontend-entry/NotoSans-Regular.ttf\") format(\\'opentype\\');\\n          }\\n        \\n          @font-face {\\n            font-family: \\'Noto Sans\\';\\n            font-style: normal;\\n            font-weight: 700;\\n            font-display: swap;\\n            src: local(\\'Noto Sans\\'), local(\\'NotoSans\\'), url(\"/static/frontend-entry/NotoSans-Bold.ttf\") format(\\'opentype\\');\\n          }\\n        </style>\\n      <meta http-equiv=\"origin-trial\" content=\"AymqwRC7u88Y4JPvfIF2F37QKylC04248hLCdJAsh8xgOfe/dVJPV3XS3wLFca1ZMVOtnBfVjaCMTVudWM//5g4AAAB7eyJvcmlnaW4iOiJodHRwczovL3d3dy5nb29nbGV0YWdtYW5hZ2VyLmNvbTo0NDMiLCJmZWF0dXJlIjoiUHJpdmFjeVNhbmRib3hBZHNBUElzIiwiZXhwaXJ5IjoxNjk1MTY3OTk5LCJpc1RoaXJkUGFydHkiOnRydWV9\"><meta http-equiv=\"origin-trial\" content=\"AymqwRC7u88Y4JPvfIF2F37QKylC04248hLCdJAsh8xgOfe/dVJPV3XS3wLFca1ZMVOtnBfVjaCMTVudWM//5g4AAAB7eyJvcmlnaW4iOiJodHRwczovL3d3dy5nb29nbGV0YWdtYW5hZ2VyLmNvbTo0NDMiLCJmZWF0dXJlIjoiUHJpdmFjeVNhbmRib3hBZHNBUElzIiwiZXhwaXJ5IjoxNjk1MTY3OTk5LCJpc1RoaXJkUGFydHkiOnRydWV9\"></head>\\n      <body>\\n        <div class=\"body-container\"><div id=\"frontend-parking\" data-reactroot=\"\"><div id=\"__frontend-parking_PAGE_HEAD__\"><script type=\"application/json\" id=\"__frontend-parking_PAGE_PROPS__\">{\"manifest\":{\"ParkingPage.css\":\"/static/frontend-parking/ParkingPage.5ae915a3aa3f0bf6d6ef.css\",\"ParkingPage.js\":\"/static/frontend-parking/ParkingPage.5ae915a3aa3f0bf6d6ef.bundle.js\",\"ParkingPage.css.map\":\"/static/frontend-parking/ParkingPage.5ae915a3aa3f0bf6d6ef.css.map\",\"ParkingPage.js.map\":\"/static/frontend-parking/ParkingPage.5ae915a3aa3f0bf6d6ef.bundle.js.map\"},\"serverConfig\":{\"analyticsParams\":\"?utm_source=domainsellpage&utm_medium=referral\",\"api\":{\"domainParkingInfo\":\"/\",\"domainShop\":\"/parking-page\"},\"baseURL\":\"https://www.nic.ru\",\"links\":{\"lot\":{\"en\":\"https://www.nic.ru/en/shop/lot/\",\"ru\":\"https://www.nic.ru/shop/lot/\"},\"nic\":{\"en\":\"https://www.nic.ru/en/\",\"ru\":\"https://www.nic.ru/\"},\"shop\":{\"en\":\"https://www.nic.ru/en/shop/\",\"ru\":\"https://www.nic.ru/shop/\"}},\"localePath\":{\"en\":\"/en\",\"ru\":\"/\"}},\"serverState\":{\"router\":{\"location\":{\"pathname\":\"/\",\"search\":\"\",\"hash\":\"\",\"key\":\"opyq3d\",\"query\":{}},\"action\":\"POP\"},\"domainInfo\":{\"isLoaded\":false,\"haggle\":false,\"prices\":[],\"priceDetails\":{}},\"sourceInfo\":{\"domain\":\"\",\"locale\":\"ru\",\"links\":{\"nic\":{\"ru\":\"https://www.nic.ru/\",\"en\":\"https://www.nic.ru/en/\"},\"shop\":{\"ru\":\"https://www.nic.ru/shop/\",\"en\":\"https://www.nic.ru/en/shop/\"},\"lot\":{\"ru\":\"https://www.nic.ru/shop/lot/\",\"en\":\"https://www.nic.ru/en/shop/lot/\"}}},\"blocks\":{\"ru\":[],\"en\":[]}},\"path\":\"/\"}</script><script id=\"__frontend-parking_PAGE_MANIFEST__\" type=\"application/json\">{\"ParkingPage.css\":\"/static/frontend-parking/ParkingPage.5ae915a3aa3f0bf6d6ef.css\",\"ParkingPage.js\":\"/static/frontend-parking/ParkingPage.5ae915a3aa3f0bf6d6ef.bundle.js\",\"ParkingPage.css.map\":\"/static/frontend-parking/ParkingPage.5ae915a3aa3f0bf6d6ef.css.map\",\"ParkingPage.js.map\":\"/static/frontend-parking/ParkingPage.5ae915a3aa3f0bf6d6ef.bundle.js.map\"}</script><script async=\"\" src=\"/static/frontend-parking/ParkingPage.5ae915a3aa3f0bf6d6ef.bundle.js\"></script><link rel=\"stylesheet\" href=\"/static/frontend-parking/ParkingPage.5ae915a3aa3f0bf6d6ef.css\"></div><div class=\"parking__wrapper___3QNQY\"><div class=\"parking__header___3F-lN\"><span class=\"_0_6_0_text__base___3pCmD _0_6_0_text__preset-h3___-O-Cz _0_6_0_text__color-primary___CtPsB text\">Домен продается</span><div class=\"parking__lang___11BqK\"><button type=\"button\" class=\"langButton__clearButton___2csJ_\"><span class=\"_0_6_0_text__base___3pCmD _0_6_0_text__preset-h3___-O-Cz _0_6_0_text__color-primary___CtPsB text\">Рус</span></button><button type=\"button\" class=\"langButton__clearButton___2csJ_\"><span class=\"_0_6_0_text__base___3pCmD _0_6_0_text__preset-h3___-O-Cz _0_6_0_text__color-secondary___23x9g text\">Eng</span></button></div></div><div class=\"parking__content___2dkVh\"><div class=\"body__base___dqEyY\"><div></div><div class=\"body__centerElementWrapper___1PDAC\"><div class=\"body__buttonWrapper___Tb_4E\"><a class=\"body__button___2wtDh\" href=\"https://www.nic.ru/shop/lot/\">Купить в RU-CENTER</a></div></div></div></div><div class=\"parking__bottom___2UyJ_\"><a href=\"https://www.nic.ru/\"><svg viewBox=\"0 0 100 42\" fill=\"none\" xmlns=\"http://www.w3.org/2000/svg\" class=\"parking__logo___3jrFv\"><path d=\"M39.2312 20.9475C38.5291 20.9475 37.8711 20.8599 37.2572 20.6853C36.643 20.5101 36.1075 20.2386 35.6492 19.8703C35.2028 19.5083 34.8549 19.0539 34.6046 18.5081C34.354 17.9616 34.2285 17.3299 34.2285 16.6124C34.2285 15.6855 34.4043 14.8246 34.7557 14.0302C35.1069 13.2354 35.6004 12.5411 36.235 11.9456C36.8587 11.3621 37.6191 10.9003 38.5167 10.5599C39.4146 10.219 40.3862 10.0491 41.43 10.0491C42.0596 10.0491 42.6839 10.1195 43.304 10.2608C43.9238 10.4019 44.4992 10.6071 45.0306 10.8765L44.3344 13.7005H43.8667C43.5072 13.2651 43.0992 12.9417 42.6442 12.73C42.1892 12.5185 41.6776 12.4122 41.1093 12.4122C40.0711 12.4122 39.2371 12.7831 38.6084 13.5229C37.9788 14.2621 37.6643 15.1854 37.6643 16.2902C37.6643 17.0582 37.8584 17.6323 38.2463 18.0124C38.6344 18.3932 39.2371 18.5838 40.056 18.5838C40.6907 18.5838 41.2696 18.4531 41.7921 18.193C42.3143 17.9322 42.7617 17.643 43.1347 17.324H43.6016L42.9054 20.1468C42.2457 20.4352 41.6667 20.6404 41.1694 20.7634C40.6714 20.8857 40.0247 20.9475 39.2312 20.9475Z\" fill=\"#14295E\"></path><path d=\"M53.1509 14.1788C53.1695 14.0678 53.1828 13.9659 53.1923 13.8744C53.2017 13.7815 53.2065 13.6867 53.2065 13.5876C53.2065 13.1011 53.0556 12.7287 52.7556 12.47C52.455 12.211 52.0227 12.0815 51.4591 12.0815C50.7787 12.0815 50.2065 12.2666 49.7435 12.636C49.2798 13.0064 48.9298 13.5204 48.6905 14.1788H53.1509ZM50.6269 20.948C48.8727 20.948 47.5192 20.5584 46.5648 19.7785C45.6118 18.9989 45.1343 17.922 45.1343 16.5476C45.1343 15.6088 45.2902 14.7467 45.602 13.9614C45.9136 13.1759 46.363 12.486 46.9503 11.8903C47.5121 11.3132 48.2153 10.8571 49.0582 10.5185C49.9023 10.1814 50.829 10.0122 51.8381 10.0122C53.371 10.0122 54.5287 10.3243 55.3083 10.9474C56.0872 11.5707 56.4772 12.4905 56.4772 13.706C56.4772 14.1239 56.4352 14.5317 56.3532 14.9311C56.2704 15.3303 56.1618 15.7267 56.0275 16.119H48.3689V16.3311C48.3689 17.0477 48.6204 17.6093 49.121 18.0138C49.6236 18.4189 50.3929 18.6208 51.4278 18.6208C52.1503 18.6208 52.834 18.4985 53.4804 18.2532C54.1263 18.0082 54.6887 17.7343 55.1659 17.4347H55.5337L54.9183 20.0924C54.2769 20.3745 53.6017 20.5878 52.8923 20.7312C52.184 20.8758 51.4287 20.948 50.6269 20.948Z\" fill=\"#14295E\"></path><path d=\"M68.7965 10.7206C68.2832 10.2734 67.5642 10.0494 66.6405 10.0494C65.9678 10.0494 65.3521 10.1757 64.792 10.4257C64.2317 10.6779 63.6136 11.0274 62.9346 11.475L63.2065 10.3343L58.7385 10.3351L58.2337 12.5144H59.3852L57.5098 20.6619H60.8287L62.5044 13.3418C62.9323 13.1149 63.3172 12.9453 63.6601 12.831C64.0021 12.7178 64.305 12.6611 64.5681 12.6611C65.1059 12.6611 65.4755 12.7529 65.6772 12.9364C65.879 13.1214 65.9802 13.4122 65.9802 13.8107C65.9802 14.0439 65.9556 14.2963 65.9062 14.5651C65.858 14.8347 65.7908 15.1599 65.7059 15.5395L64.5355 20.6619H67.8761L69.4119 13.9393C69.466 13.7071 69.5068 13.4832 69.5305 13.2679C69.5547 13.0534 69.5666 12.8539 69.5666 12.67C69.5666 11.818 69.3098 11.1679 68.7965 10.7206Z\" fill=\"#14295E\"></path><path d=\"M86.2181 14.1788C86.2359 14.0678 86.2498 13.9659 86.259 13.8744C86.2684 13.7815 86.2735 13.6867 86.2735 13.5876C86.2735 13.1011 86.1229 12.7287 85.822 12.47C85.522 12.211 85.0897 12.0815 84.5255 12.0815C83.8448 12.0815 83.2732 12.2666 82.8105 12.636C82.3474 13.0064 81.9971 13.5204 81.7569 14.1788H86.2181ZM83.6942 20.948C81.9394 20.948 80.5859 20.5584 79.632 19.7785C78.6788 18.9989 78.2007 17.922 78.2007 16.5476C78.2007 15.6088 78.3569 14.7467 78.6684 13.9614C78.9803 13.1759 79.4297 12.486 80.017 11.8903C80.5791 11.3132 81.2818 10.8571 82.1255 10.5185C82.9693 10.1814 83.8951 10.0122 84.9042 10.0122C86.4383 10.0122 87.5954 10.3243 88.375 10.9474C89.1545 11.5707 89.5439 12.4905 89.5439 13.706C89.5439 14.1239 89.5022 14.5317 89.4196 14.9311C89.3377 15.3303 89.2285 15.7267 89.0939 16.119H81.4356V16.3311C81.4356 17.0477 81.6865 17.6093 82.1886 18.0138C82.6909 18.4189 83.4593 18.6208 84.4945 18.6208C85.217 18.6208 85.9013 18.4985 86.5468 18.2532C87.1936 18.0082 87.7557 17.7343 88.2329 17.4347H88.6004L87.9856 20.0924C87.3436 20.3745 86.6681 20.5878 85.9596 20.7312C85.2501 20.8758 84.4954 20.948 83.6942 20.948Z\" fill=\"#14295E\"></path><path d=\"M99.2681 13.4888H98.9758C98.8288 13.4395 98.622 13.403 98.3533 13.3789C98.0853 13.3543 97.8202 13.3412 97.5578 13.3412C97.124 13.3412 96.7066 13.3742 96.3042 13.438C95.9013 13.5028 95.4868 13.6046 95.0607 13.7463L93.4622 20.6619H90.1421L92.5276 10.3339H95.8489L95.4986 11.8518C96.1202 11.3921 96.7406 11.0182 97.3604 10.7295C97.9791 10.4418 98.6033 10.2974 99.2315 10.2974C99.3474 10.2974 99.4773 10.3007 99.6202 10.3066C99.764 10.3129 99.8906 10.3221 99.9998 10.3339L99.2681 13.4888Z\" fill=\"#14295E\"></path><path d=\"M76.5138 10.3344L77.1899 7.38243H73.8798L73.2017 10.3344H71.8428L71.3381 12.5143H72.7301L70.8579 20.6624H74.168C74.1881 20.5789 74.205 20.4949 74.2248 20.4111L76.0396 12.5143H78.2428L78.7443 10.3344H76.5138Z\" fill=\"#14295E\"></path><path d=\"M11.7508 12.4608C11.4899 12.2898 11.1042 12.2045 10.5951 12.2045H9.2993L8.66681 14.9427H9.9554C10.6505 14.9427 11.1891 14.8008 11.5705 14.5163C11.9524 14.2315 12.1431 13.8362 12.1431 13.3319C12.1431 12.9221 12.0131 12.6313 11.7508 12.4608ZM24.9706 16.7962C24.6395 18.2069 24.0778 19.23 23.2867 19.8664C22.4953 20.5029 21.3494 20.8215 19.8493 20.8215C18.5122 20.8215 17.5007 20.5807 16.8142 20.0993C16.1277 19.6176 15.7851 18.8891 15.7851 17.9117C15.7851 17.7115 15.8003 17.5081 15.8321 17.3026C15.8639 17.0971 15.898 16.91 15.935 16.7413L17.3935 10.4298H20.0342L18.5801 16.7478C18.5474 16.8758 18.5218 17.0166 18.501 17.1692C18.4796 17.3216 18.47 17.449 18.47 17.5491C18.47 17.9779 18.5986 18.3037 18.8564 18.5247C19.1129 18.7459 19.539 18.857 20.1346 18.857C20.7132 18.857 21.1801 18.6966 21.5364 18.3774C21.8932 18.0581 22.1495 17.561 22.3046 16.8853L23.7972 10.4298H26.4429L24.9706 16.7962ZM14.551 20.6232H11.6275L9.71537 16.8853H8.24415L7.38202 20.6232H4.764L7.10776 10.4298H11.071C12.313 10.4298 13.272 10.6403 13.9504 11.0624C14.6279 11.4847 14.9663 12.13 14.9663 12.9963C14.9663 13.8139 14.7186 14.5002 14.2228 15.0568C13.7274 15.6139 13.055 16.0339 12.2038 16.3169L14.551 20.6232ZM15.7148 0C7.0353 0 0 7.06316 0 15.7755C0 24.4884 7.0353 31.5513 15.7148 31.5513C24.3941 31.5513 31.4311 24.4884 31.4311 15.7755C31.4311 7.06316 24.3941 0 15.7148 0Z\" fill=\"#14295E\"></path><path d=\"M67.6909 29.0176C79.3004 28.8359 89.1729 30.3268 99.1019 32.6982C90.5281 28.8251 81.2373 26.3193 70.6522 25.6576C68.319 25.5117 65.9229 25.4555 63.4578 25.4939C43.5033 25.8058 25.779 32.2138 14.1929 42C28.0245 34.4046 46.8631 29.342 67.6909 29.0176Z\" fill=\"#EF3F23\"></path></svg></a><div class=\"parking__shopLink___2cSRD\"><a class=\"parking__none___3ikcX\" href=\"https://www.nic.ru/shop/\"><div class=\"rc-items-center\"><span class=\"_0_6_0_text__base___3pCmD _0_6_0_text__preset-h3___-O-Cz _0_6_0_text__color-primary___CtPsB text\">Другие домены в магазине доменов</span><div class=\"rc-inline rc-ml-10\"><svg width=\"19\" height=\"13\" viewBox=\"0 0 19 13\" fill=\"none\" xmlns=\"http://www.w3.org/2000/svg\"><path d=\"M10.5883 12.025L16.9412 6.47501L10.5883 0.92501\" stroke=\"#14295E\" stroke-width=\"2\"></path><path d=\"M16.4118 6.47501H0\" stroke=\"#14295E\" stroke-width=\"2\"></path></svg></div></div></a></div></div></div></div></div>\\n        <div id=\"portal_zone\"><div>\\n          \\n    </div></div><script type=\"text/javascript\" id=\"\">var weblytics={helper:{searchWord:google_tag_manager[\"rm\"][\"9946574\"](121),query:google_tag_manager[\"rm\"][\"9946574\"](123),filters:google_tag_manager[\"rm\"][\"9946574\"](124)},order:{}};</script><script type=\"text/javascript\" id=\"\">window.addEventListener(\"beforeunload\",function(){var a=(new Date).getTime()-google_tag_manager[\"rm\"][\"9946574\"](125);25>a/6E4&&\"blog\"==google_tag_manager[\"rm\"][\"9946574\"](127)&&window.dataLayer.push({event:\"unloadEvent\",timeonpages:a})});</script></body></html>']\n"
          ]
        }
      ]
    },
    {
      "cell_type": "code",
      "source": [
        "print(df.columns.to_list()[1])"
      ],
      "metadata": {
        "colab": {
          "base_uri": "https://localhost:8080/"
        },
        "collapsed": true,
        "id": "JIuosIC0mA6d",
        "outputId": "682f466b-6d6d-49b5-c53e-1ee29f8d77f7"
      },
      "execution_count": 4,
      "outputs": [
        {
          "output_type": "stream",
          "name": "stdout",
          "text": [
            "<html><head>\n",
            "        <meta name=\"viewport\" content=\"width=device-width, initial-scale=1.0\">\n",
            "        <title>Домен продается. Купить в магазине доменов RU-CENTER</title>\n",
            "        <meta name=\"description\" content=\"Узнать подробнее о домене в магазине доменов RU-CENTER.\">\n",
            "        <meta name=\"keywords\" content=\"домен, регистрация доменов, РФ, RU, COM, аукцион доменов, хостинг, почта, освобождающиеся домены\">\n",
            "        <meta name=\"application-name\" content=\"nic.ru\">\n",
            "        <meta name=\"robots\" content=\"noyaca\">\n",
            "        <meta name=\"msapplication-square70x70logo\" content=\"/favicon_70x70.png\">\n",
            "        <meta name=\"msapplication-square150x150logo\" content=\"/favicon_150x150.png\">\n",
            "        <meta name=\"msapplication-wide310x150logo\" content=\"/favicon_310x150.png\">\n",
            "        <meta name=\"msapplication-square310x310logo\" content=\"/favicon_310x310.png\">\n",
            "        <meta property=\"og:title\" id=\"title\" content=\"Домен продается. Купить в магазине доменов RU-CENTER\">\n",
            "        <meta property=\"og:description\" id=\"description\" content=\"Узнать подробнее о домене в магазине доменов RU-CENTER.\">\n",
            "        <meta name=\"twitter:card\" content=\"summary_large_image\">\n",
            "        <meta name=\"twitter:site\" content=\"@ru_nic\">\n",
            "        <meta name=\"twitter:title\" content=\" Домен продается. Купить в магазине доменов RU-CENTER \">\n",
            "        <meta name=\"twitter:description\" content=\" Узнать подробнее о домене в магазине доменов RU-CENTER.\">\n",
            "        <meta name=\"twitter:image\" content=\"https://storage.nic.ru/ru/images/jpg/zaglushkapark.jpg\">\n",
            "        <meta property=\"og:image\" content=\"https://storage.nic.ru/ru/images/jpg/zaglushkapark.jpg\">\n",
            "        \n",
            "        <link rel=\"icon\" type=\"image/png\" href=\"https://www.nic.ru/favicon.png\">\n",
            "        <link rel=\"icon\" type=\"image/png\" sizes=\"192x192\" href=\"https://www.nic.ru/favicon_192x192.png\">\n",
            "        <link rel=\"apple-touch-icon\" type=\"image/png\" href=\"https://www.nic.ru/favicon_192x192.png\">\n",
            "        <link rel=\"apple-touch-icon\" type=\"image/png\" sizes=\"152x152\" href=\"https://www.nic.ru/favicon_152x152.png\">\n",
            "        <link rel=\"apple-touch-icon\" type=\"image/png\" sizes=\"167x167\" href=\"https://www.nic.ru/favicon_167x167.png\">\n",
            "        <link rel=\"apple-touch-icon\" type=\"image/png\" sizes=\"180x180\" href=\"https://www.nic.ru/favicon_180x180.png\">\n",
            "        <link rel=\"preload\" href=\"/static/frontend-entry/bundle.7709dbece824ed81e2fa.bundle.js\" as=\"script\">\n",
            "        <link rel=\"preconnect\" href=\"https://mc.yandex.ru\">\n",
            "        <link rel=\"preconnect\" href=\"https://www.google.ru\">\n",
            "        <link rel=\"preconnect\" href=\"https://www.google.com\">\n",
            "        <link rel=\"preconnect\" href=\"https://www.google-analytics.com\">\n",
            "        <link rel=\"preconnect\" href=\"https://www.googletagmanager.com\">\n",
            "        <link rel=\"preconnect\" href=\"https://stats.g.doubleclick.net\">\n",
            "        <meta name=\"theme-color\" content=\"#ffffff\">\n",
            "        <!-- Google Analytics -->\n",
            "        <!-- <script>window.user_id = '8739050';</script>-->\n",
            "        <!-- <script>window.login = '2709010/NIC-D/adm';</script>-->\n",
            "        <!-- <script>-->\n",
            "        <!-- !function(e,a,n,i,o,s){e.GoogleAnalyticsObject=i,e.ga=e.ga||function(){(e.ga.q=e.ga.q||[]).push(arguments)},e.ga.l=+new Date,o=a.createElement(n),s=a.getElementsByTagName(n)[0],o.async=1,o.src=\"//www.google-analytics.com/analytics.js\",s.parentNode.insertBefore(o,s)}(window,document,\"script\",\"ga\"),ga(\"create\",\"UA-54851853-1\",\"auto\"),ga(function(e){var a=e.get(\"clientId\");document.cookie=\"_ga_cid=\"+a+\"; path=/\",ga(\"set\",\"dimension3\",a)}),window.user_id&&(ga(\"set\",\"&uid\",window.user_id),ga(\"set\",\"dimension4\",window.user_id)),ga(\"set\",\"dimension2\",window.login?\"User\":\"Guest\"),window.send_ab_split_ga_events&&(window.ab_split_ga_group?ga(\"set\",\"dimension5\",\"groupB\"):ga(\"set\",\"dimension5\",\"groupA\"));var path=location.pathname+location.search+location.hash;path=path.replace(/(login=|personRu=|personEn=|email=|password=|passwd=|pass=|resend=|phone=)([^&]*)/gi,\"$1[edited]\"),ga(\"send\",\"pageview\",path);-->\n",
            "        <!-- </script>-->\n",
            "        <!-- End Google Analytics -->\n",
            "        <link rel=\"shortcut icon\" href=\"/favicon.ico\">\n",
            "        \n",
            "        <script type=\"text/javascript\" async=\"\" src=\"https://www.googletagmanager.com/gtag/js?id=G-1X3G5S3G44&amp;cx=c&amp;_slc=1\"></script><script type=\"text/javascript\" async=\"\" src=\"https://www.googletagmanager.com/gtag/js?id=G-YBVZ79X7XD&amp;cx=c&amp;_slc=1\"></script><script type=\"text/javascript\" async=\"\" src=\"https://www.google-analytics.com/analytics.js\"></script><script async=\"\" src=\"https://mc.yandex.ru/metrika/tag.js\"></script><script async=\"\" src=\"https://www.googletagmanager.com/gtm.js?id=GTM-NQPPJQV\"></script><script async=\"\" src=\"https://www.google-analytics.com/analytics.js\"></script><script type=\"text/javascript\" src=\"/static/frontend-entry/bundle.7709dbece824ed81e2fa.bundle.js\"></script>\n",
            "        \n",
            "        <!-- Переехало в frontend-scripts в рамках RCWEB-10158-->\n",
            "        <!-- <script async type=\"text/javascript\" src=\"https://mc.yandex.ru/metrika/tag.js\"></script>-->\n",
            "        <!-- <script async type=\"text/javascript\" src=\"https://www.google-analytics.com/analytics.js\"></script>-->\n",
            "        <!-- <script async type=\"text/javascript\" src=\"https://www.googletagmanager.com/gtm.js?id=GTM-K9MTVC\"></script-->\n",
            "\n",
            "        <script src=\"https://www.nic.ru/scripts/external.bundle.js?1696067404556\" defer=\"\"></script>\n",
            "        <script src=\"https://www.nic.ru/scripts/internal.bundle.js?1696067404556\" defer=\"\"></script>\n",
            "        <script async=\"\" type=\"text/javascript\" src=\"https://www.googletagmanager.com/gtag/js?id=G-7LJ3G8P6NN&amp;l=dataLayer&amp;cx=c\"></script>\n",
            "        <style>\n",
            "          body {\n",
            "            display: flex;\n",
            "            flex-direction: column;\n",
            "            box-sizing: border-box;\n",
            "            background-color: #FAFAFA;\n",
            "            margin: 0;\n",
            "          }\n",
            "\n",
            "          @font-face {\n",
            "            font-family: 'Noto Sans';\n",
            "            font-style: normal;\n",
            "            font-weight: 400;\n",
            "            font-display: swap;\n",
            "            src: local('Noto Sans'), local('NotoSans'), url(\"/static/frontend-entry/NotoSans-Regular.ttf\") format('opentype');\n",
            "          }\n",
            "        \n",
            "          @font-face {\n",
            "            font-family: 'Noto Sans';\n",
            "            font-style: normal;\n",
            "            font-weight: 700;\n",
            "            font-display: swap;\n",
            "            src: local('Noto Sans'), local('NotoSans'), url(\"/static/frontend-entry/NotoSans-Bold.ttf\") format('opentype');\n",
            "          }\n",
            "        </style>\n",
            "      <meta http-equiv=\"origin-trial\" content=\"AymqwRC7u88Y4JPvfIF2F37QKylC04248hLCdJAsh8xgOfe/dVJPV3XS3wLFca1ZMVOtnBfVjaCMTVudWM//5g4AAAB7eyJvcmlnaW4iOiJodHRwczovL3d3dy5nb29nbGV0YWdtYW5hZ2VyLmNvbTo0NDMiLCJmZWF0dXJlIjoiUHJpdmFjeVNhbmRib3hBZHNBUElzIiwiZXhwaXJ5IjoxNjk1MTY3OTk5LCJpc1RoaXJkUGFydHkiOnRydWV9\"><meta http-equiv=\"origin-trial\" content=\"AymqwRC7u88Y4JPvfIF2F37QKylC04248hLCdJAsh8xgOfe/dVJPV3XS3wLFca1ZMVOtnBfVjaCMTVudWM//5g4AAAB7eyJvcmlnaW4iOiJodHRwczovL3d3dy5nb29nbGV0YWdtYW5hZ2VyLmNvbTo0NDMiLCJmZWF0dXJlIjoiUHJpdmFjeVNhbmRib3hBZHNBUElzIiwiZXhwaXJ5IjoxNjk1MTY3OTk5LCJpc1RoaXJkUGFydHkiOnRydWV9\"></head>\n",
            "      <body>\n",
            "        <div class=\"body-container\"><div id=\"frontend-parking\" data-reactroot=\"\"><div id=\"__frontend-parking_PAGE_HEAD__\"><script type=\"application/json\" id=\"__frontend-parking_PAGE_PROPS__\">{\"manifest\":{\"ParkingPage.css\":\"/static/frontend-parking/ParkingPage.5ae915a3aa3f0bf6d6ef.css\",\"ParkingPage.js\":\"/static/frontend-parking/ParkingPage.5ae915a3aa3f0bf6d6ef.bundle.js\",\"ParkingPage.css.map\":\"/static/frontend-parking/ParkingPage.5ae915a3aa3f0bf6d6ef.css.map\",\"ParkingPage.js.map\":\"/static/frontend-parking/ParkingPage.5ae915a3aa3f0bf6d6ef.bundle.js.map\"},\"serverConfig\":{\"analyticsParams\":\"?utm_source=domainsellpage&utm_medium=referral\",\"api\":{\"domainParkingInfo\":\"/\",\"domainShop\":\"/parking-page\"},\"baseURL\":\"https://www.nic.ru\",\"links\":{\"lot\":{\"en\":\"https://www.nic.ru/en/shop/lot/\",\"ru\":\"https://www.nic.ru/shop/lot/\"},\"nic\":{\"en\":\"https://www.nic.ru/en/\",\"ru\":\"https://www.nic.ru/\"},\"shop\":{\"en\":\"https://www.nic.ru/en/shop/\",\"ru\":\"https://www.nic.ru/shop/\"}},\"localePath\":{\"en\":\"/en\",\"ru\":\"/\"}},\"serverState\":{\"router\":{\"location\":{\"pathname\":\"/\",\"search\":\"\",\"hash\":\"\",\"key\":\"opyq3d\",\"query\":{}},\"action\":\"POP\"},\"domainInfo\":{\"isLoaded\":false,\"haggle\":false,\"prices\":[],\"priceDetails\":{}},\"sourceInfo\":{\"domain\":\"\",\"locale\":\"ru\",\"links\":{\"nic\":{\"ru\":\"https://www.nic.ru/\",\"en\":\"https://www.nic.ru/en/\"},\"shop\":{\"ru\":\"https://www.nic.ru/shop/\",\"en\":\"https://www.nic.ru/en/shop/\"},\"lot\":{\"ru\":\"https://www.nic.ru/shop/lot/\",\"en\":\"https://www.nic.ru/en/shop/lot/\"}}},\"blocks\":{\"ru\":[],\"en\":[]}},\"path\":\"/\"}</script><script id=\"__frontend-parking_PAGE_MANIFEST__\" type=\"application/json\">{\"ParkingPage.css\":\"/static/frontend-parking/ParkingPage.5ae915a3aa3f0bf6d6ef.css\",\"ParkingPage.js\":\"/static/frontend-parking/ParkingPage.5ae915a3aa3f0bf6d6ef.bundle.js\",\"ParkingPage.css.map\":\"/static/frontend-parking/ParkingPage.5ae915a3aa3f0bf6d6ef.css.map\",\"ParkingPage.js.map\":\"/static/frontend-parking/ParkingPage.5ae915a3aa3f0bf6d6ef.bundle.js.map\"}</script><script async=\"\" src=\"/static/frontend-parking/ParkingPage.5ae915a3aa3f0bf6d6ef.bundle.js\"></script><link rel=\"stylesheet\" href=\"/static/frontend-parking/ParkingPage.5ae915a3aa3f0bf6d6ef.css\"></div><div class=\"parking__wrapper___3QNQY\"><div class=\"parking__header___3F-lN\"><span class=\"_0_6_0_text__base___3pCmD _0_6_0_text__preset-h3___-O-Cz _0_6_0_text__color-primary___CtPsB text\">Домен продается</span><div class=\"parking__lang___11BqK\"><button type=\"button\" class=\"langButton__clearButton___2csJ_\"><span class=\"_0_6_0_text__base___3pCmD _0_6_0_text__preset-h3___-O-Cz _0_6_0_text__color-primary___CtPsB text\">Рус</span></button><button type=\"button\" class=\"langButton__clearButton___2csJ_\"><span class=\"_0_6_0_text__base___3pCmD _0_6_0_text__preset-h3___-O-Cz _0_6_0_text__color-secondary___23x9g text\">Eng</span></button></div></div><div class=\"parking__content___2dkVh\"><div class=\"body__base___dqEyY\"><div></div><div class=\"body__centerElementWrapper___1PDAC\"><div class=\"body__buttonWrapper___Tb_4E\"><a class=\"body__button___2wtDh\" href=\"https://www.nic.ru/shop/lot/\">Купить в RU-CENTER</a></div></div></div></div><div class=\"parking__bottom___2UyJ_\"><a href=\"https://www.nic.ru/\"><svg viewBox=\"0 0 100 42\" fill=\"none\" xmlns=\"http://www.w3.org/2000/svg\" class=\"parking__logo___3jrFv\"><path d=\"M39.2312 20.9475C38.5291 20.9475 37.8711 20.8599 37.2572 20.6853C36.643 20.5101 36.1075 20.2386 35.6492 19.8703C35.2028 19.5083 34.8549 19.0539 34.6046 18.5081C34.354 17.9616 34.2285 17.3299 34.2285 16.6124C34.2285 15.6855 34.4043 14.8246 34.7557 14.0302C35.1069 13.2354 35.6004 12.5411 36.235 11.9456C36.8587 11.3621 37.6191 10.9003 38.5167 10.5599C39.4146 10.219 40.3862 10.0491 41.43 10.0491C42.0596 10.0491 42.6839 10.1195 43.304 10.2608C43.9238 10.4019 44.4992 10.6071 45.0306 10.8765L44.3344 13.7005H43.8667C43.5072 13.2651 43.0992 12.9417 42.6442 12.73C42.1892 12.5185 41.6776 12.4122 41.1093 12.4122C40.0711 12.4122 39.2371 12.7831 38.6084 13.5229C37.9788 14.2621 37.6643 15.1854 37.6643 16.2902C37.6643 17.0582 37.8584 17.6323 38.2463 18.0124C38.6344 18.3932 39.2371 18.5838 40.056 18.5838C40.6907 18.5838 41.2696 18.4531 41.7921 18.193C42.3143 17.9322 42.7617 17.643 43.1347 17.324H43.6016L42.9054 20.1468C42.2457 20.4352 41.6667 20.6404 41.1694 20.7634C40.6714 20.8857 40.0247 20.9475 39.2312 20.9475Z\" fill=\"#14295E\"></path><path d=\"M53.1509 14.1788C53.1695 14.0678 53.1828 13.9659 53.1923 13.8744C53.2017 13.7815 53.2065 13.6867 53.2065 13.5876C53.2065 13.1011 53.0556 12.7287 52.7556 12.47C52.455 12.211 52.0227 12.0815 51.4591 12.0815C50.7787 12.0815 50.2065 12.2666 49.7435 12.636C49.2798 13.0064 48.9298 13.5204 48.6905 14.1788H53.1509ZM50.6269 20.948C48.8727 20.948 47.5192 20.5584 46.5648 19.7785C45.6118 18.9989 45.1343 17.922 45.1343 16.5476C45.1343 15.6088 45.2902 14.7467 45.602 13.9614C45.9136 13.1759 46.363 12.486 46.9503 11.8903C47.5121 11.3132 48.2153 10.8571 49.0582 10.5185C49.9023 10.1814 50.829 10.0122 51.8381 10.0122C53.371 10.0122 54.5287 10.3243 55.3083 10.9474C56.0872 11.5707 56.4772 12.4905 56.4772 13.706C56.4772 14.1239 56.4352 14.5317 56.3532 14.9311C56.2704 15.3303 56.1618 15.7267 56.0275 16.119H48.3689V16.3311C48.3689 17.0477 48.6204 17.6093 49.121 18.0138C49.6236 18.4189 50.3929 18.6208 51.4278 18.6208C52.1503 18.6208 52.834 18.4985 53.4804 18.2532C54.1263 18.0082 54.6887 17.7343 55.1659 17.4347H55.5337L54.9183 20.0924C54.2769 20.3745 53.6017 20.5878 52.8923 20.7312C52.184 20.8758 51.4287 20.948 50.6269 20.948Z\" fill=\"#14295E\"></path><path d=\"M68.7965 10.7206C68.2832 10.2734 67.5642 10.0494 66.6405 10.0494C65.9678 10.0494 65.3521 10.1757 64.792 10.4257C64.2317 10.6779 63.6136 11.0274 62.9346 11.475L63.2065 10.3343L58.7385 10.3351L58.2337 12.5144H59.3852L57.5098 20.6619H60.8287L62.5044 13.3418C62.9323 13.1149 63.3172 12.9453 63.6601 12.831C64.0021 12.7178 64.305 12.6611 64.5681 12.6611C65.1059 12.6611 65.4755 12.7529 65.6772 12.9364C65.879 13.1214 65.9802 13.4122 65.9802 13.8107C65.9802 14.0439 65.9556 14.2963 65.9062 14.5651C65.858 14.8347 65.7908 15.1599 65.7059 15.5395L64.5355 20.6619H67.8761L69.4119 13.9393C69.466 13.7071 69.5068 13.4832 69.5305 13.2679C69.5547 13.0534 69.5666 12.8539 69.5666 12.67C69.5666 11.818 69.3098 11.1679 68.7965 10.7206Z\" fill=\"#14295E\"></path><path d=\"M86.2181 14.1788C86.2359 14.0678 86.2498 13.9659 86.259 13.8744C86.2684 13.7815 86.2735 13.6867 86.2735 13.5876C86.2735 13.1011 86.1229 12.7287 85.822 12.47C85.522 12.211 85.0897 12.0815 84.5255 12.0815C83.8448 12.0815 83.2732 12.2666 82.8105 12.636C82.3474 13.0064 81.9971 13.5204 81.7569 14.1788H86.2181ZM83.6942 20.948C81.9394 20.948 80.5859 20.5584 79.632 19.7785C78.6788 18.9989 78.2007 17.922 78.2007 16.5476C78.2007 15.6088 78.3569 14.7467 78.6684 13.9614C78.9803 13.1759 79.4297 12.486 80.017 11.8903C80.5791 11.3132 81.2818 10.8571 82.1255 10.5185C82.9693 10.1814 83.8951 10.0122 84.9042 10.0122C86.4383 10.0122 87.5954 10.3243 88.375 10.9474C89.1545 11.5707 89.5439 12.4905 89.5439 13.706C89.5439 14.1239 89.5022 14.5317 89.4196 14.9311C89.3377 15.3303 89.2285 15.7267 89.0939 16.119H81.4356V16.3311C81.4356 17.0477 81.6865 17.6093 82.1886 18.0138C82.6909 18.4189 83.4593 18.6208 84.4945 18.6208C85.217 18.6208 85.9013 18.4985 86.5468 18.2532C87.1936 18.0082 87.7557 17.7343 88.2329 17.4347H88.6004L87.9856 20.0924C87.3436 20.3745 86.6681 20.5878 85.9596 20.7312C85.2501 20.8758 84.4954 20.948 83.6942 20.948Z\" fill=\"#14295E\"></path><path d=\"M99.2681 13.4888H98.9758C98.8288 13.4395 98.622 13.403 98.3533 13.3789C98.0853 13.3543 97.8202 13.3412 97.5578 13.3412C97.124 13.3412 96.7066 13.3742 96.3042 13.438C95.9013 13.5028 95.4868 13.6046 95.0607 13.7463L93.4622 20.6619H90.1421L92.5276 10.3339H95.8489L95.4986 11.8518C96.1202 11.3921 96.7406 11.0182 97.3604 10.7295C97.9791 10.4418 98.6033 10.2974 99.2315 10.2974C99.3474 10.2974 99.4773 10.3007 99.6202 10.3066C99.764 10.3129 99.8906 10.3221 99.9998 10.3339L99.2681 13.4888Z\" fill=\"#14295E\"></path><path d=\"M76.5138 10.3344L77.1899 7.38243H73.8798L73.2017 10.3344H71.8428L71.3381 12.5143H72.7301L70.8579 20.6624H74.168C74.1881 20.5789 74.205 20.4949 74.2248 20.4111L76.0396 12.5143H78.2428L78.7443 10.3344H76.5138Z\" fill=\"#14295E\"></path><path d=\"M11.7508 12.4608C11.4899 12.2898 11.1042 12.2045 10.5951 12.2045H9.2993L8.66681 14.9427H9.9554C10.6505 14.9427 11.1891 14.8008 11.5705 14.5163C11.9524 14.2315 12.1431 13.8362 12.1431 13.3319C12.1431 12.9221 12.0131 12.6313 11.7508 12.4608ZM24.9706 16.7962C24.6395 18.2069 24.0778 19.23 23.2867 19.8664C22.4953 20.5029 21.3494 20.8215 19.8493 20.8215C18.5122 20.8215 17.5007 20.5807 16.8142 20.0993C16.1277 19.6176 15.7851 18.8891 15.7851 17.9117C15.7851 17.7115 15.8003 17.5081 15.8321 17.3026C15.8639 17.0971 15.898 16.91 15.935 16.7413L17.3935 10.4298H20.0342L18.5801 16.7478C18.5474 16.8758 18.5218 17.0166 18.501 17.1692C18.4796 17.3216 18.47 17.449 18.47 17.5491C18.47 17.9779 18.5986 18.3037 18.8564 18.5247C19.1129 18.7459 19.539 18.857 20.1346 18.857C20.7132 18.857 21.1801 18.6966 21.5364 18.3774C21.8932 18.0581 22.1495 17.561 22.3046 16.8853L23.7972 10.4298H26.4429L24.9706 16.7962ZM14.551 20.6232H11.6275L9.71537 16.8853H8.24415L7.38202 20.6232H4.764L7.10776 10.4298H11.071C12.313 10.4298 13.272 10.6403 13.9504 11.0624C14.6279 11.4847 14.9663 12.13 14.9663 12.9963C14.9663 13.8139 14.7186 14.5002 14.2228 15.0568C13.7274 15.6139 13.055 16.0339 12.2038 16.3169L14.551 20.6232ZM15.7148 0C7.0353 0 0 7.06316 0 15.7755C0 24.4884 7.0353 31.5513 15.7148 31.5513C24.3941 31.5513 31.4311 24.4884 31.4311 15.7755C31.4311 7.06316 24.3941 0 15.7148 0Z\" fill=\"#14295E\"></path><path d=\"M67.6909 29.0176C79.3004 28.8359 89.1729 30.3268 99.1019 32.6982C90.5281 28.8251 81.2373 26.3193 70.6522 25.6576C68.319 25.5117 65.9229 25.4555 63.4578 25.4939C43.5033 25.8058 25.779 32.2138 14.1929 42C28.0245 34.4046 46.8631 29.342 67.6909 29.0176Z\" fill=\"#EF3F23\"></path></svg></a><div class=\"parking__shopLink___2cSRD\"><a class=\"parking__none___3ikcX\" href=\"https://www.nic.ru/shop/\"><div class=\"rc-items-center\"><span class=\"_0_6_0_text__base___3pCmD _0_6_0_text__preset-h3___-O-Cz _0_6_0_text__color-primary___CtPsB text\">Другие домены в магазине доменов</span><div class=\"rc-inline rc-ml-10\"><svg width=\"19\" height=\"13\" viewBox=\"0 0 19 13\" fill=\"none\" xmlns=\"http://www.w3.org/2000/svg\"><path d=\"M10.5883 12.025L16.9412 6.47501L10.5883 0.92501\" stroke=\"#14295E\" stroke-width=\"2\"></path><path d=\"M16.4118 6.47501H0\" stroke=\"#14295E\" stroke-width=\"2\"></path></svg></div></div></a></div></div></div></div></div>\n",
            "        <div id=\"portal_zone\"><div>\n",
            "          \n",
            "    </div></div><script type=\"text/javascript\" id=\"\">var weblytics={helper:{searchWord:google_tag_manager[\"rm\"][\"9946574\"](121),query:google_tag_manager[\"rm\"][\"9946574\"](123),filters:google_tag_manager[\"rm\"][\"9946574\"](124)},order:{}};</script><script type=\"text/javascript\" id=\"\">window.addEventListener(\"beforeunload\",function(){var a=(new Date).getTime()-google_tag_manager[\"rm\"][\"9946574\"](125);25>a/6E4&&\"blog\"==google_tag_manager[\"rm\"][\"9946574\"](127)&&window.dataLayer.push({event:\"unloadEvent\",timeonpages:a})});</script></body></html>\n"
          ]
        }
      ]
    },
    {
      "cell_type": "markdown",
      "source": [
        "Значит данные представляют из себя 2 столбца - \"link\" - \"html\". Переименую их для удобной работы"
      ],
      "metadata": {
        "id": "fSaT5YM6m9en"
      }
    },
    {
      "cell_type": "code",
      "source": [
        "link1, html1 = df.columns.to_list()"
      ],
      "metadata": {
        "id": "NigqWkArnqeL"
      },
      "execution_count": 5,
      "outputs": []
    },
    {
      "cell_type": "code",
      "source": [
        "print(link1, html1)"
      ],
      "metadata": {
        "colab": {
          "base_uri": "https://localhost:8080/"
        },
        "collapsed": true,
        "id": "DVf9XkBInyQB",
        "outputId": "b9f5904b-48d0-469b-8bf8-3ec59ee02710"
      },
      "execution_count": 6,
      "outputs": [
        {
          "output_type": "stream",
          "name": "stdout",
          "text": [
            "http://0-9.ru <html><head>\n",
            "        <meta name=\"viewport\" content=\"width=device-width, initial-scale=1.0\">\n",
            "        <title>Домен продается. Купить в магазине доменов RU-CENTER</title>\n",
            "        <meta name=\"description\" content=\"Узнать подробнее о домене в магазине доменов RU-CENTER.\">\n",
            "        <meta name=\"keywords\" content=\"домен, регистрация доменов, РФ, RU, COM, аукцион доменов, хостинг, почта, освобождающиеся домены\">\n",
            "        <meta name=\"application-name\" content=\"nic.ru\">\n",
            "        <meta name=\"robots\" content=\"noyaca\">\n",
            "        <meta name=\"msapplication-square70x70logo\" content=\"/favicon_70x70.png\">\n",
            "        <meta name=\"msapplication-square150x150logo\" content=\"/favicon_150x150.png\">\n",
            "        <meta name=\"msapplication-wide310x150logo\" content=\"/favicon_310x150.png\">\n",
            "        <meta name=\"msapplication-square310x310logo\" content=\"/favicon_310x310.png\">\n",
            "        <meta property=\"og:title\" id=\"title\" content=\"Домен продается. Купить в магазине доменов RU-CENTER\">\n",
            "        <meta property=\"og:description\" id=\"description\" content=\"Узнать подробнее о домене в магазине доменов RU-CENTER.\">\n",
            "        <meta name=\"twitter:card\" content=\"summary_large_image\">\n",
            "        <meta name=\"twitter:site\" content=\"@ru_nic\">\n",
            "        <meta name=\"twitter:title\" content=\" Домен продается. Купить в магазине доменов RU-CENTER \">\n",
            "        <meta name=\"twitter:description\" content=\" Узнать подробнее о домене в магазине доменов RU-CENTER.\">\n",
            "        <meta name=\"twitter:image\" content=\"https://storage.nic.ru/ru/images/jpg/zaglushkapark.jpg\">\n",
            "        <meta property=\"og:image\" content=\"https://storage.nic.ru/ru/images/jpg/zaglushkapark.jpg\">\n",
            "        \n",
            "        <link rel=\"icon\" type=\"image/png\" href=\"https://www.nic.ru/favicon.png\">\n",
            "        <link rel=\"icon\" type=\"image/png\" sizes=\"192x192\" href=\"https://www.nic.ru/favicon_192x192.png\">\n",
            "        <link rel=\"apple-touch-icon\" type=\"image/png\" href=\"https://www.nic.ru/favicon_192x192.png\">\n",
            "        <link rel=\"apple-touch-icon\" type=\"image/png\" sizes=\"152x152\" href=\"https://www.nic.ru/favicon_152x152.png\">\n",
            "        <link rel=\"apple-touch-icon\" type=\"image/png\" sizes=\"167x167\" href=\"https://www.nic.ru/favicon_167x167.png\">\n",
            "        <link rel=\"apple-touch-icon\" type=\"image/png\" sizes=\"180x180\" href=\"https://www.nic.ru/favicon_180x180.png\">\n",
            "        <link rel=\"preload\" href=\"/static/frontend-entry/bundle.7709dbece824ed81e2fa.bundle.js\" as=\"script\">\n",
            "        <link rel=\"preconnect\" href=\"https://mc.yandex.ru\">\n",
            "        <link rel=\"preconnect\" href=\"https://www.google.ru\">\n",
            "        <link rel=\"preconnect\" href=\"https://www.google.com\">\n",
            "        <link rel=\"preconnect\" href=\"https://www.google-analytics.com\">\n",
            "        <link rel=\"preconnect\" href=\"https://www.googletagmanager.com\">\n",
            "        <link rel=\"preconnect\" href=\"https://stats.g.doubleclick.net\">\n",
            "        <meta name=\"theme-color\" content=\"#ffffff\">\n",
            "        <!-- Google Analytics -->\n",
            "        <!-- <script>window.user_id = '8739050';</script>-->\n",
            "        <!-- <script>window.login = '2709010/NIC-D/adm';</script>-->\n",
            "        <!-- <script>-->\n",
            "        <!-- !function(e,a,n,i,o,s){e.GoogleAnalyticsObject=i,e.ga=e.ga||function(){(e.ga.q=e.ga.q||[]).push(arguments)},e.ga.l=+new Date,o=a.createElement(n),s=a.getElementsByTagName(n)[0],o.async=1,o.src=\"//www.google-analytics.com/analytics.js\",s.parentNode.insertBefore(o,s)}(window,document,\"script\",\"ga\"),ga(\"create\",\"UA-54851853-1\",\"auto\"),ga(function(e){var a=e.get(\"clientId\");document.cookie=\"_ga_cid=\"+a+\"; path=/\",ga(\"set\",\"dimension3\",a)}),window.user_id&&(ga(\"set\",\"&uid\",window.user_id),ga(\"set\",\"dimension4\",window.user_id)),ga(\"set\",\"dimension2\",window.login?\"User\":\"Guest\"),window.send_ab_split_ga_events&&(window.ab_split_ga_group?ga(\"set\",\"dimension5\",\"groupB\"):ga(\"set\",\"dimension5\",\"groupA\"));var path=location.pathname+location.search+location.hash;path=path.replace(/(login=|personRu=|personEn=|email=|password=|passwd=|pass=|resend=|phone=)([^&]*)/gi,\"$1[edited]\"),ga(\"send\",\"pageview\",path);-->\n",
            "        <!-- </script>-->\n",
            "        <!-- End Google Analytics -->\n",
            "        <link rel=\"shortcut icon\" href=\"/favicon.ico\">\n",
            "        \n",
            "        <script type=\"text/javascript\" async=\"\" src=\"https://www.googletagmanager.com/gtag/js?id=G-1X3G5S3G44&amp;cx=c&amp;_slc=1\"></script><script type=\"text/javascript\" async=\"\" src=\"https://www.googletagmanager.com/gtag/js?id=G-YBVZ79X7XD&amp;cx=c&amp;_slc=1\"></script><script type=\"text/javascript\" async=\"\" src=\"https://www.google-analytics.com/analytics.js\"></script><script async=\"\" src=\"https://mc.yandex.ru/metrika/tag.js\"></script><script async=\"\" src=\"https://www.googletagmanager.com/gtm.js?id=GTM-NQPPJQV\"></script><script async=\"\" src=\"https://www.google-analytics.com/analytics.js\"></script><script type=\"text/javascript\" src=\"/static/frontend-entry/bundle.7709dbece824ed81e2fa.bundle.js\"></script>\n",
            "        \n",
            "        <!-- Переехало в frontend-scripts в рамках RCWEB-10158-->\n",
            "        <!-- <script async type=\"text/javascript\" src=\"https://mc.yandex.ru/metrika/tag.js\"></script>-->\n",
            "        <!-- <script async type=\"text/javascript\" src=\"https://www.google-analytics.com/analytics.js\"></script>-->\n",
            "        <!-- <script async type=\"text/javascript\" src=\"https://www.googletagmanager.com/gtm.js?id=GTM-K9MTVC\"></script-->\n",
            "\n",
            "        <script src=\"https://www.nic.ru/scripts/external.bundle.js?1696067404556\" defer=\"\"></script>\n",
            "        <script src=\"https://www.nic.ru/scripts/internal.bundle.js?1696067404556\" defer=\"\"></script>\n",
            "        <script async=\"\" type=\"text/javascript\" src=\"https://www.googletagmanager.com/gtag/js?id=G-7LJ3G8P6NN&amp;l=dataLayer&amp;cx=c\"></script>\n",
            "        <style>\n",
            "          body {\n",
            "            display: flex;\n",
            "            flex-direction: column;\n",
            "            box-sizing: border-box;\n",
            "            background-color: #FAFAFA;\n",
            "            margin: 0;\n",
            "          }\n",
            "\n",
            "          @font-face {\n",
            "            font-family: 'Noto Sans';\n",
            "            font-style: normal;\n",
            "            font-weight: 400;\n",
            "            font-display: swap;\n",
            "            src: local('Noto Sans'), local('NotoSans'), url(\"/static/frontend-entry/NotoSans-Regular.ttf\") format('opentype');\n",
            "          }\n",
            "        \n",
            "          @font-face {\n",
            "            font-family: 'Noto Sans';\n",
            "            font-style: normal;\n",
            "            font-weight: 700;\n",
            "            font-display: swap;\n",
            "            src: local('Noto Sans'), local('NotoSans'), url(\"/static/frontend-entry/NotoSans-Bold.ttf\") format('opentype');\n",
            "          }\n",
            "        </style>\n",
            "      <meta http-equiv=\"origin-trial\" content=\"AymqwRC7u88Y4JPvfIF2F37QKylC04248hLCdJAsh8xgOfe/dVJPV3XS3wLFca1ZMVOtnBfVjaCMTVudWM//5g4AAAB7eyJvcmlnaW4iOiJodHRwczovL3d3dy5nb29nbGV0YWdtYW5hZ2VyLmNvbTo0NDMiLCJmZWF0dXJlIjoiUHJpdmFjeVNhbmRib3hBZHNBUElzIiwiZXhwaXJ5IjoxNjk1MTY3OTk5LCJpc1RoaXJkUGFydHkiOnRydWV9\"><meta http-equiv=\"origin-trial\" content=\"AymqwRC7u88Y4JPvfIF2F37QKylC04248hLCdJAsh8xgOfe/dVJPV3XS3wLFca1ZMVOtnBfVjaCMTVudWM//5g4AAAB7eyJvcmlnaW4iOiJodHRwczovL3d3dy5nb29nbGV0YWdtYW5hZ2VyLmNvbTo0NDMiLCJmZWF0dXJlIjoiUHJpdmFjeVNhbmRib3hBZHNBUElzIiwiZXhwaXJ5IjoxNjk1MTY3OTk5LCJpc1RoaXJkUGFydHkiOnRydWV9\"></head>\n",
            "      <body>\n",
            "        <div class=\"body-container\"><div id=\"frontend-parking\" data-reactroot=\"\"><div id=\"__frontend-parking_PAGE_HEAD__\"><script type=\"application/json\" id=\"__frontend-parking_PAGE_PROPS__\">{\"manifest\":{\"ParkingPage.css\":\"/static/frontend-parking/ParkingPage.5ae915a3aa3f0bf6d6ef.css\",\"ParkingPage.js\":\"/static/frontend-parking/ParkingPage.5ae915a3aa3f0bf6d6ef.bundle.js\",\"ParkingPage.css.map\":\"/static/frontend-parking/ParkingPage.5ae915a3aa3f0bf6d6ef.css.map\",\"ParkingPage.js.map\":\"/static/frontend-parking/ParkingPage.5ae915a3aa3f0bf6d6ef.bundle.js.map\"},\"serverConfig\":{\"analyticsParams\":\"?utm_source=domainsellpage&utm_medium=referral\",\"api\":{\"domainParkingInfo\":\"/\",\"domainShop\":\"/parking-page\"},\"baseURL\":\"https://www.nic.ru\",\"links\":{\"lot\":{\"en\":\"https://www.nic.ru/en/shop/lot/\",\"ru\":\"https://www.nic.ru/shop/lot/\"},\"nic\":{\"en\":\"https://www.nic.ru/en/\",\"ru\":\"https://www.nic.ru/\"},\"shop\":{\"en\":\"https://www.nic.ru/en/shop/\",\"ru\":\"https://www.nic.ru/shop/\"}},\"localePath\":{\"en\":\"/en\",\"ru\":\"/\"}},\"serverState\":{\"router\":{\"location\":{\"pathname\":\"/\",\"search\":\"\",\"hash\":\"\",\"key\":\"opyq3d\",\"query\":{}},\"action\":\"POP\"},\"domainInfo\":{\"isLoaded\":false,\"haggle\":false,\"prices\":[],\"priceDetails\":{}},\"sourceInfo\":{\"domain\":\"\",\"locale\":\"ru\",\"links\":{\"nic\":{\"ru\":\"https://www.nic.ru/\",\"en\":\"https://www.nic.ru/en/\"},\"shop\":{\"ru\":\"https://www.nic.ru/shop/\",\"en\":\"https://www.nic.ru/en/shop/\"},\"lot\":{\"ru\":\"https://www.nic.ru/shop/lot/\",\"en\":\"https://www.nic.ru/en/shop/lot/\"}}},\"blocks\":{\"ru\":[],\"en\":[]}},\"path\":\"/\"}</script><script id=\"__frontend-parking_PAGE_MANIFEST__\" type=\"application/json\">{\"ParkingPage.css\":\"/static/frontend-parking/ParkingPage.5ae915a3aa3f0bf6d6ef.css\",\"ParkingPage.js\":\"/static/frontend-parking/ParkingPage.5ae915a3aa3f0bf6d6ef.bundle.js\",\"ParkingPage.css.map\":\"/static/frontend-parking/ParkingPage.5ae915a3aa3f0bf6d6ef.css.map\",\"ParkingPage.js.map\":\"/static/frontend-parking/ParkingPage.5ae915a3aa3f0bf6d6ef.bundle.js.map\"}</script><script async=\"\" src=\"/static/frontend-parking/ParkingPage.5ae915a3aa3f0bf6d6ef.bundle.js\"></script><link rel=\"stylesheet\" href=\"/static/frontend-parking/ParkingPage.5ae915a3aa3f0bf6d6ef.css\"></div><div class=\"parking__wrapper___3QNQY\"><div class=\"parking__header___3F-lN\"><span class=\"_0_6_0_text__base___3pCmD _0_6_0_text__preset-h3___-O-Cz _0_6_0_text__color-primary___CtPsB text\">Домен продается</span><div class=\"parking__lang___11BqK\"><button type=\"button\" class=\"langButton__clearButton___2csJ_\"><span class=\"_0_6_0_text__base___3pCmD _0_6_0_text__preset-h3___-O-Cz _0_6_0_text__color-primary___CtPsB text\">Рус</span></button><button type=\"button\" class=\"langButton__clearButton___2csJ_\"><span class=\"_0_6_0_text__base___3pCmD _0_6_0_text__preset-h3___-O-Cz _0_6_0_text__color-secondary___23x9g text\">Eng</span></button></div></div><div class=\"parking__content___2dkVh\"><div class=\"body__base___dqEyY\"><div></div><div class=\"body__centerElementWrapper___1PDAC\"><div class=\"body__buttonWrapper___Tb_4E\"><a class=\"body__button___2wtDh\" href=\"https://www.nic.ru/shop/lot/\">Купить в RU-CENTER</a></div></div></div></div><div class=\"parking__bottom___2UyJ_\"><a href=\"https://www.nic.ru/\"><svg viewBox=\"0 0 100 42\" fill=\"none\" xmlns=\"http://www.w3.org/2000/svg\" class=\"parking__logo___3jrFv\"><path d=\"M39.2312 20.9475C38.5291 20.9475 37.8711 20.8599 37.2572 20.6853C36.643 20.5101 36.1075 20.2386 35.6492 19.8703C35.2028 19.5083 34.8549 19.0539 34.6046 18.5081C34.354 17.9616 34.2285 17.3299 34.2285 16.6124C34.2285 15.6855 34.4043 14.8246 34.7557 14.0302C35.1069 13.2354 35.6004 12.5411 36.235 11.9456C36.8587 11.3621 37.6191 10.9003 38.5167 10.5599C39.4146 10.219 40.3862 10.0491 41.43 10.0491C42.0596 10.0491 42.6839 10.1195 43.304 10.2608C43.9238 10.4019 44.4992 10.6071 45.0306 10.8765L44.3344 13.7005H43.8667C43.5072 13.2651 43.0992 12.9417 42.6442 12.73C42.1892 12.5185 41.6776 12.4122 41.1093 12.4122C40.0711 12.4122 39.2371 12.7831 38.6084 13.5229C37.9788 14.2621 37.6643 15.1854 37.6643 16.2902C37.6643 17.0582 37.8584 17.6323 38.2463 18.0124C38.6344 18.3932 39.2371 18.5838 40.056 18.5838C40.6907 18.5838 41.2696 18.4531 41.7921 18.193C42.3143 17.9322 42.7617 17.643 43.1347 17.324H43.6016L42.9054 20.1468C42.2457 20.4352 41.6667 20.6404 41.1694 20.7634C40.6714 20.8857 40.0247 20.9475 39.2312 20.9475Z\" fill=\"#14295E\"></path><path d=\"M53.1509 14.1788C53.1695 14.0678 53.1828 13.9659 53.1923 13.8744C53.2017 13.7815 53.2065 13.6867 53.2065 13.5876C53.2065 13.1011 53.0556 12.7287 52.7556 12.47C52.455 12.211 52.0227 12.0815 51.4591 12.0815C50.7787 12.0815 50.2065 12.2666 49.7435 12.636C49.2798 13.0064 48.9298 13.5204 48.6905 14.1788H53.1509ZM50.6269 20.948C48.8727 20.948 47.5192 20.5584 46.5648 19.7785C45.6118 18.9989 45.1343 17.922 45.1343 16.5476C45.1343 15.6088 45.2902 14.7467 45.602 13.9614C45.9136 13.1759 46.363 12.486 46.9503 11.8903C47.5121 11.3132 48.2153 10.8571 49.0582 10.5185C49.9023 10.1814 50.829 10.0122 51.8381 10.0122C53.371 10.0122 54.5287 10.3243 55.3083 10.9474C56.0872 11.5707 56.4772 12.4905 56.4772 13.706C56.4772 14.1239 56.4352 14.5317 56.3532 14.9311C56.2704 15.3303 56.1618 15.7267 56.0275 16.119H48.3689V16.3311C48.3689 17.0477 48.6204 17.6093 49.121 18.0138C49.6236 18.4189 50.3929 18.6208 51.4278 18.6208C52.1503 18.6208 52.834 18.4985 53.4804 18.2532C54.1263 18.0082 54.6887 17.7343 55.1659 17.4347H55.5337L54.9183 20.0924C54.2769 20.3745 53.6017 20.5878 52.8923 20.7312C52.184 20.8758 51.4287 20.948 50.6269 20.948Z\" fill=\"#14295E\"></path><path d=\"M68.7965 10.7206C68.2832 10.2734 67.5642 10.0494 66.6405 10.0494C65.9678 10.0494 65.3521 10.1757 64.792 10.4257C64.2317 10.6779 63.6136 11.0274 62.9346 11.475L63.2065 10.3343L58.7385 10.3351L58.2337 12.5144H59.3852L57.5098 20.6619H60.8287L62.5044 13.3418C62.9323 13.1149 63.3172 12.9453 63.6601 12.831C64.0021 12.7178 64.305 12.6611 64.5681 12.6611C65.1059 12.6611 65.4755 12.7529 65.6772 12.9364C65.879 13.1214 65.9802 13.4122 65.9802 13.8107C65.9802 14.0439 65.9556 14.2963 65.9062 14.5651C65.858 14.8347 65.7908 15.1599 65.7059 15.5395L64.5355 20.6619H67.8761L69.4119 13.9393C69.466 13.7071 69.5068 13.4832 69.5305 13.2679C69.5547 13.0534 69.5666 12.8539 69.5666 12.67C69.5666 11.818 69.3098 11.1679 68.7965 10.7206Z\" fill=\"#14295E\"></path><path d=\"M86.2181 14.1788C86.2359 14.0678 86.2498 13.9659 86.259 13.8744C86.2684 13.7815 86.2735 13.6867 86.2735 13.5876C86.2735 13.1011 86.1229 12.7287 85.822 12.47C85.522 12.211 85.0897 12.0815 84.5255 12.0815C83.8448 12.0815 83.2732 12.2666 82.8105 12.636C82.3474 13.0064 81.9971 13.5204 81.7569 14.1788H86.2181ZM83.6942 20.948C81.9394 20.948 80.5859 20.5584 79.632 19.7785C78.6788 18.9989 78.2007 17.922 78.2007 16.5476C78.2007 15.6088 78.3569 14.7467 78.6684 13.9614C78.9803 13.1759 79.4297 12.486 80.017 11.8903C80.5791 11.3132 81.2818 10.8571 82.1255 10.5185C82.9693 10.1814 83.8951 10.0122 84.9042 10.0122C86.4383 10.0122 87.5954 10.3243 88.375 10.9474C89.1545 11.5707 89.5439 12.4905 89.5439 13.706C89.5439 14.1239 89.5022 14.5317 89.4196 14.9311C89.3377 15.3303 89.2285 15.7267 89.0939 16.119H81.4356V16.3311C81.4356 17.0477 81.6865 17.6093 82.1886 18.0138C82.6909 18.4189 83.4593 18.6208 84.4945 18.6208C85.217 18.6208 85.9013 18.4985 86.5468 18.2532C87.1936 18.0082 87.7557 17.7343 88.2329 17.4347H88.6004L87.9856 20.0924C87.3436 20.3745 86.6681 20.5878 85.9596 20.7312C85.2501 20.8758 84.4954 20.948 83.6942 20.948Z\" fill=\"#14295E\"></path><path d=\"M99.2681 13.4888H98.9758C98.8288 13.4395 98.622 13.403 98.3533 13.3789C98.0853 13.3543 97.8202 13.3412 97.5578 13.3412C97.124 13.3412 96.7066 13.3742 96.3042 13.438C95.9013 13.5028 95.4868 13.6046 95.0607 13.7463L93.4622 20.6619H90.1421L92.5276 10.3339H95.8489L95.4986 11.8518C96.1202 11.3921 96.7406 11.0182 97.3604 10.7295C97.9791 10.4418 98.6033 10.2974 99.2315 10.2974C99.3474 10.2974 99.4773 10.3007 99.6202 10.3066C99.764 10.3129 99.8906 10.3221 99.9998 10.3339L99.2681 13.4888Z\" fill=\"#14295E\"></path><path d=\"M76.5138 10.3344L77.1899 7.38243H73.8798L73.2017 10.3344H71.8428L71.3381 12.5143H72.7301L70.8579 20.6624H74.168C74.1881 20.5789 74.205 20.4949 74.2248 20.4111L76.0396 12.5143H78.2428L78.7443 10.3344H76.5138Z\" fill=\"#14295E\"></path><path d=\"M11.7508 12.4608C11.4899 12.2898 11.1042 12.2045 10.5951 12.2045H9.2993L8.66681 14.9427H9.9554C10.6505 14.9427 11.1891 14.8008 11.5705 14.5163C11.9524 14.2315 12.1431 13.8362 12.1431 13.3319C12.1431 12.9221 12.0131 12.6313 11.7508 12.4608ZM24.9706 16.7962C24.6395 18.2069 24.0778 19.23 23.2867 19.8664C22.4953 20.5029 21.3494 20.8215 19.8493 20.8215C18.5122 20.8215 17.5007 20.5807 16.8142 20.0993C16.1277 19.6176 15.7851 18.8891 15.7851 17.9117C15.7851 17.7115 15.8003 17.5081 15.8321 17.3026C15.8639 17.0971 15.898 16.91 15.935 16.7413L17.3935 10.4298H20.0342L18.5801 16.7478C18.5474 16.8758 18.5218 17.0166 18.501 17.1692C18.4796 17.3216 18.47 17.449 18.47 17.5491C18.47 17.9779 18.5986 18.3037 18.8564 18.5247C19.1129 18.7459 19.539 18.857 20.1346 18.857C20.7132 18.857 21.1801 18.6966 21.5364 18.3774C21.8932 18.0581 22.1495 17.561 22.3046 16.8853L23.7972 10.4298H26.4429L24.9706 16.7962ZM14.551 20.6232H11.6275L9.71537 16.8853H8.24415L7.38202 20.6232H4.764L7.10776 10.4298H11.071C12.313 10.4298 13.272 10.6403 13.9504 11.0624C14.6279 11.4847 14.9663 12.13 14.9663 12.9963C14.9663 13.8139 14.7186 14.5002 14.2228 15.0568C13.7274 15.6139 13.055 16.0339 12.2038 16.3169L14.551 20.6232ZM15.7148 0C7.0353 0 0 7.06316 0 15.7755C0 24.4884 7.0353 31.5513 15.7148 31.5513C24.3941 31.5513 31.4311 24.4884 31.4311 15.7755C31.4311 7.06316 24.3941 0 15.7148 0Z\" fill=\"#14295E\"></path><path d=\"M67.6909 29.0176C79.3004 28.8359 89.1729 30.3268 99.1019 32.6982C90.5281 28.8251 81.2373 26.3193 70.6522 25.6576C68.319 25.5117 65.9229 25.4555 63.4578 25.4939C43.5033 25.8058 25.779 32.2138 14.1929 42C28.0245 34.4046 46.8631 29.342 67.6909 29.0176Z\" fill=\"#EF3F23\"></path></svg></a><div class=\"parking__shopLink___2cSRD\"><a class=\"parking__none___3ikcX\" href=\"https://www.nic.ru/shop/\"><div class=\"rc-items-center\"><span class=\"_0_6_0_text__base___3pCmD _0_6_0_text__preset-h3___-O-Cz _0_6_0_text__color-primary___CtPsB text\">Другие домены в магазине доменов</span><div class=\"rc-inline rc-ml-10\"><svg width=\"19\" height=\"13\" viewBox=\"0 0 19 13\" fill=\"none\" xmlns=\"http://www.w3.org/2000/svg\"><path d=\"M10.5883 12.025L16.9412 6.47501L10.5883 0.92501\" stroke=\"#14295E\" stroke-width=\"2\"></path><path d=\"M16.4118 6.47501H0\" stroke=\"#14295E\" stroke-width=\"2\"></path></svg></div></div></a></div></div></div></div></div>\n",
            "        <div id=\"portal_zone\"><div>\n",
            "          \n",
            "    </div></div><script type=\"text/javascript\" id=\"\">var weblytics={helper:{searchWord:google_tag_manager[\"rm\"][\"9946574\"](121),query:google_tag_manager[\"rm\"][\"9946574\"](123),filters:google_tag_manager[\"rm\"][\"9946574\"](124)},order:{}};</script><script type=\"text/javascript\" id=\"\">window.addEventListener(\"beforeunload\",function(){var a=(new Date).getTime()-google_tag_manager[\"rm\"][\"9946574\"](125);25>a/6E4&&\"blog\"==google_tag_manager[\"rm\"][\"9946574\"](127)&&window.dataLayer.push({event:\"unloadEvent\",timeonpages:a})});</script></body></html>\n"
          ]
        }
      ]
    },
    {
      "cell_type": "markdown",
      "source": [
        "Обратим внимание, что названия столбцов отдельно не выделены, а на их месте стоит первый обект. Чтобы не создавать копию df(имею ограниченные ресурсы), я просто отдельно сохраню эту строчку и для удобства переименую столбцы."
      ],
      "metadata": {
        "id": "TZ18IfTJodGv"
      }
    },
    {
      "cell_type": "code",
      "source": [
        "df.columns = ['link', 'html']"
      ],
      "metadata": {
        "id": "gimrApdlnG4M"
      },
      "execution_count": 7,
      "outputs": []
    },
    {
      "cell_type": "code",
      "source": [
        "df.columns.to_list()"
      ],
      "metadata": {
        "colab": {
          "base_uri": "https://localhost:8080/"
        },
        "id": "Ej-OmfYKn5iZ",
        "outputId": "216b930a-3016-42cd-d078-5e113d3b44c6"
      },
      "execution_count": 8,
      "outputs": [
        {
          "output_type": "execute_result",
          "data": {
            "text/plain": [
              "['link', 'html']"
            ]
          },
          "metadata": {},
          "execution_count": 8
        }
      ]
    },
    {
      "cell_type": "code",
      "source": [
        "df['link']"
      ],
      "metadata": {
        "colab": {
          "base_uri": "https://localhost:8080/",
          "height": 458
        },
        "collapsed": true,
        "id": "avQmVhb2osaS",
        "outputId": "3b9064e8-36f9-40d7-c6c2-b514beecebe4"
      },
      "execution_count": 9,
      "outputs": [
        {
          "output_type": "execute_result",
          "data": {
            "text/plain": [
              "0           http://0009.ru\n",
              "1           http://001k.ru\n",
              "2          http://003ms.ru\n",
              "3          http://003rt.ru\n",
              "4            http://004.ru\n",
              "               ...        \n",
              "9994      http://1hobby.ru\n",
              "9995        http://1hod.ru\n",
              "9996        http://1hop.ru\n",
              "9997    http://1hostels.ru\n",
              "9998     http://1hotel1.ru\n",
              "Name: link, Length: 9999, dtype: object"
            ],
            "text/html": [
              "<div>\n",
              "<style scoped>\n",
              "    .dataframe tbody tr th:only-of-type {\n",
              "        vertical-align: middle;\n",
              "    }\n",
              "\n",
              "    .dataframe tbody tr th {\n",
              "        vertical-align: top;\n",
              "    }\n",
              "\n",
              "    .dataframe thead th {\n",
              "        text-align: right;\n",
              "    }\n",
              "</style>\n",
              "<table border=\"1\" class=\"dataframe\">\n",
              "  <thead>\n",
              "    <tr style=\"text-align: right;\">\n",
              "      <th></th>\n",
              "      <th>link</th>\n",
              "    </tr>\n",
              "  </thead>\n",
              "  <tbody>\n",
              "    <tr>\n",
              "      <th>0</th>\n",
              "      <td>http://0009.ru</td>\n",
              "    </tr>\n",
              "    <tr>\n",
              "      <th>1</th>\n",
              "      <td>http://001k.ru</td>\n",
              "    </tr>\n",
              "    <tr>\n",
              "      <th>2</th>\n",
              "      <td>http://003ms.ru</td>\n",
              "    </tr>\n",
              "    <tr>\n",
              "      <th>3</th>\n",
              "      <td>http://003rt.ru</td>\n",
              "    </tr>\n",
              "    <tr>\n",
              "      <th>4</th>\n",
              "      <td>http://004.ru</td>\n",
              "    </tr>\n",
              "    <tr>\n",
              "      <th>...</th>\n",
              "      <td>...</td>\n",
              "    </tr>\n",
              "    <tr>\n",
              "      <th>9994</th>\n",
              "      <td>http://1hobby.ru</td>\n",
              "    </tr>\n",
              "    <tr>\n",
              "      <th>9995</th>\n",
              "      <td>http://1hod.ru</td>\n",
              "    </tr>\n",
              "    <tr>\n",
              "      <th>9996</th>\n",
              "      <td>http://1hop.ru</td>\n",
              "    </tr>\n",
              "    <tr>\n",
              "      <th>9997</th>\n",
              "      <td>http://1hostels.ru</td>\n",
              "    </tr>\n",
              "    <tr>\n",
              "      <th>9998</th>\n",
              "      <td>http://1hotel1.ru</td>\n",
              "    </tr>\n",
              "  </tbody>\n",
              "</table>\n",
              "<p>9999 rows × 1 columns</p>\n",
              "</div><br><label><b>dtype:</b> object</label>"
            ]
          },
          "metadata": {},
          "execution_count": 9
        }
      ]
    },
    {
      "cell_type": "markdown",
      "source": [
        "Отлично, данные я загрузил, на них глазами посмотрел. Дальше будем их предобрабатывать."
      ],
      "metadata": {
        "id": "1FuXYptavqQJ"
      }
    },
    {
      "cell_type": "markdown",
      "source": [
        "## Этап 1 : Предобработка данных"
      ],
      "metadata": {
        "id": "7YaRC03UvyIs"
      }
    },
    {
      "cell_type": "markdown",
      "source": [
        "Я понимаю, что html-разметка несет в себе только служебную информацию о странице и будет мешать модели искать сущности, поэтому необходимо очистить данные от нее.\n",
        "\n",
        "Поэтому сейчас цель : извлечь чистый текст, сохранив семантику и контекст сущностей.\n",
        "\n"
      ],
      "metadata": {
        "id": "RYTaqtkApDS5"
      }
    },
    {
      "cell_type": "markdown",
      "source": [
        "Удаляем мусорные теги"
      ],
      "metadata": {
        "id": "3hfK4KAux9oh"
      }
    },
    {
      "cell_type": "code",
      "source": [
        "from bs4 import BeautifulSoup, Comment\n",
        "import re\n",
        "\n",
        "def clean_html(html):\n",
        "    soup = BeautifulSoup(html, 'lxml')\n",
        "\n",
        "    blacklist = ['script', 'style', 'meta', 'link', 'footer',\n",
        "                 'nav', 'aside', 'iframe', 'svg', 'noscript']\n",
        "    for tag in soup(blacklist):\n",
        "        tag.decompose()\n",
        "\n",
        "    for tag in soup.find_all(True):\n",
        "        if 'style' in tag.attrs:\n",
        "            del tag['style']\n",
        "\n",
        "    for comment in soup.find_all(string=lambda text: isinstance(text, Comment)):\n",
        "        comment.extract()\n",
        "\n",
        "    for tag in soup.find_all(re.compile(r'^.*$')):\n",
        "        if len(tag.get_text(strip=True)) == 0:\n",
        "            tag.decompose()\n",
        "\n",
        "    return soup"
      ],
      "metadata": {
        "id": "dd3isTS4wXVc"
      },
      "execution_count": 10,
      "outputs": []
    },
    {
      "cell_type": "markdown",
      "source": [
        "Извлекаем текст с контекстом"
      ],
      "metadata": {
        "id": "lTV0SX1jyQvt"
      }
    },
    {
      "cell_type": "code",
      "source": [
        "def extract_structured_text(soup):\n",
        "    structure_rules = {\n",
        "        'h1': '\\n# ',    # Заголовки как маркеры\n",
        "        'h2': '\\n## ',\n",
        "        'p': '\\n',\n",
        "        'li': '\\n * '    # Элементы списка\n",
        "    }\n",
        "\n",
        "    text = []\n",
        "    for tag in soup.find_all(list(structure_rules.keys()) + ['div', 'span']):\n",
        "        if tag.name in structure_rules:\n",
        "            prefix = structure_rules[tag.name]\n",
        "        else:\n",
        "            prefix = ' '\n",
        "\n",
        "        content = tag.get_text(' ', strip=True)\n",
        "        if content:\n",
        "            text.append(f\"{prefix}{content}\")\n",
        "\n",
        "    return ''.join(text)"
      ],
      "metadata": {
        "id": "QaNY1A5xyBFs"
      },
      "execution_count": 11,
      "outputs": []
    },
    {
      "cell_type": "markdown",
      "source": [
        "Обрабатываем особенные кейсы типа : текст разбит тегами или реклама маскируется через контент"
      ],
      "metadata": {
        "id": "ob0P_fbiyTZf"
      }
    },
    {
      "cell_type": "code",
      "source": [
        "def merge_split_words(soup):\n",
        "    for tag in soup.find_all(['a', 'span']):\n",
        "        if tag.parent and tag.parent.name == 'p':\n",
        "            tag.unwrap()  # Удаляем тег, оставляя текст\n",
        "    return soup"
      ],
      "metadata": {
        "id": "_0fMXSI7yOTT"
      },
      "execution_count": 12,
      "outputs": []
    },
    {
      "cell_type": "code",
      "source": [
        "def remove_ads(soup):\n",
        "    ad_keywords = ['ad', 'banner', 'advert']\n",
        "\n",
        "    for tag in soup.find_all(True):  # True = все теги\n",
        "        classes = tag.attrs.get('class', []) if tag.attrs else []\n",
        "\n",
        "        if isinstance(classes, list):  # Убедимся, что classes - это список\n",
        "            class_str = ' '.join(classes).lower()\n",
        "        else:  # На случай, если classes - строка (редкие случаи)\n",
        "            class_str = classes.lower() if classes else ''\n",
        "\n",
        "        if any(keyword in class_str for keyword in ad_keywords):\n",
        "            tag.decompose()\n",
        "\n",
        "        if tag.attrs and 'data-ad' in tag.attrs:\n",
        "            tag.decompose()\n",
        "\n",
        "    return soup"
      ],
      "metadata": {
        "id": "gpkK7w4SyjqS"
      },
      "execution_count": 13,
      "outputs": []
    },
    {
      "cell_type": "markdown",
      "source": [
        "Посмотрим, что получается в итоге на примере"
      ],
      "metadata": {
        "id": "OV7PiPgr7Zzd"
      }
    },
    {
      "cell_type": "code",
      "source": [
        "cl_soup = clean_html(html1)\n",
        "cl_soup = remove_ads(cl_soup)\n",
        "cl_soup = merge_split_words(cl_soup)\n",
        "text1 = extract_structured_text(cl_soup)"
      ],
      "metadata": {
        "id": "ixOQN6if0rtL"
      },
      "execution_count": 14,
      "outputs": []
    },
    {
      "cell_type": "code",
      "source": [
        "html1"
      ],
      "metadata": {
        "colab": {
          "base_uri": "https://localhost:8080/",
          "height": 122
        },
        "id": "dT2qPXVp7fHm",
        "outputId": "45546e84-ab9f-43ff-f1bd-a8338a17dd06"
      },
      "execution_count": 15,
      "outputs": [
        {
          "output_type": "execute_result",
          "data": {
            "text/plain": [
              "'<html><head>\\n        <meta name=\"viewport\" content=\"width=device-width, initial-scale=1.0\">\\n        <title>Домен продается. Купить в магазине доменов RU-CENTER</title>\\n        <meta name=\"description\" content=\"Узнать подробнее о домене в магазине доменов RU-CENTER.\">\\n        <meta name=\"keywords\" content=\"домен, регистрация доменов, РФ, RU, COM, аукцион доменов, хостинг, почта, освобождающиеся домены\">\\n        <meta name=\"application-name\" content=\"nic.ru\">\\n        <meta name=\"robots\" content=\"noyaca\">\\n        <meta name=\"msapplication-square70x70logo\" content=\"/favicon_70x70.png\">\\n        <meta name=\"msapplication-square150x150logo\" content=\"/favicon_150x150.png\">\\n        <meta name=\"msapplication-wide310x150logo\" content=\"/favicon_310x150.png\">\\n        <meta name=\"msapplication-square310x310logo\" content=\"/favicon_310x310.png\">\\n        <meta property=\"og:title\" id=\"title\" content=\"Домен продается. Купить в магазине доменов RU-CENTER\">\\n        <meta property=\"og:description\" id=\"description\" content=\"Узнать подробнее о домене в магазине доменов RU-CENTER.\">\\n        <meta name=\"twitter:card\" content=\"summary_large_image\">\\n        <meta name=\"twitter:site\" content=\"@ru_nic\">\\n        <meta name=\"twitter:title\" content=\" Домен продается. Купить в магазине доменов RU-CENTER \">\\n        <meta name=\"twitter:description\" content=\" Узнать подробнее о домене в магазине доменов RU-CENTER.\">\\n        <meta name=\"twitter:image\" content=\"https://storage.nic.ru/ru/images/jpg/zaglushkapark.jpg\">\\n        <meta property=\"og:image\" content=\"https://storage.nic.ru/ru/images/jpg/zaglushkapark.jpg\">\\n        \\n        <link rel=\"icon\" type=\"image/png\" href=\"https://www.nic.ru/favicon.png\">\\n        <link rel=\"icon\" type=\"image/png\" sizes=\"192x192\" href=\"https://www.nic.ru/favicon_192x192.png\">\\n        <link rel=\"apple-touch-icon\" type=\"image/png\" href=\"https://www.nic.ru/favicon_192x192.png\">\\n        <link rel=\"apple-touch-icon\" type=\"image/png\" sizes=\"152x152\" href=\"https://www.nic.ru/favicon_152x152.png\">\\n        <link rel=\"apple-touch-icon\" type=\"image/png\" sizes=\"167x167\" href=\"https://www.nic.ru/favicon_167x167.png\">\\n        <link rel=\"apple-touch-icon\" type=\"image/png\" sizes=\"180x180\" href=\"https://www.nic.ru/favicon_180x180.png\">\\n        <link rel=\"preload\" href=\"/static/frontend-entry/bundle.7709dbece824ed81e2fa.bundle.js\" as=\"script\">\\n        <link rel=\"preconnect\" href=\"https://mc.yandex.ru\">\\n        <link rel=\"preconnect\" href=\"https://www.google.ru\">\\n        <link rel=\"preconnect\" href=\"https://www.google.com\">\\n        <link rel=\"preconnect\" href=\"https://www.google-analytics.com\">\\n        <link rel=\"preconnect\" href=\"https://www.googletagmanager.com\">\\n        <link rel=\"preconnect\" href=\"https://stats.g.doubleclick.net\">\\n        <meta name=\"theme-color\" content=\"#ffffff\">\\n        <!-- Google Analytics -->\\n        <!-- <script>window.user_id = \\'8739050\\';</script>-->\\n        <!-- <script>window.login = \\'2709010/NIC-D/adm\\';</script>-->\\n        <!-- <script>-->\\n        <!-- !function(e,a,n,i,o,s){e.GoogleAnalyticsObject=i,e.ga=e.ga||function(){(e.ga.q=e.ga.q||[]).push(arguments)},e.ga.l=+new Date,o=a.createElement(n),s=a.getElementsByTagName(n)[0],o.async=1,o.src=\"//www.google-analytics.com/analytics.js\",s.parentNode.insertBefore(o,s)}(window,document,\"script\",\"ga\"),ga(\"create\",\"UA-54851853-1\",\"auto\"),ga(function(e){var a=e.get(\"clientId\");document.cookie=\"_ga_cid=\"+a+\"; path=/\",ga(\"set\",\"dimension3\",a)}),window.user_id&&(ga(\"set\",\"&uid\",window.user_id),ga(\"set\",\"dimension4\",window.user_id)),ga(\"set\",\"dimension2\",window.login?\"User\":\"Guest\"),window.send_ab_split_ga_events&&(window.ab_split_ga_group?ga(\"set\",\"dimension5\",\"groupB\"):ga(\"set\",\"dimension5\",\"groupA\"));var path=location.pathname+location.search+location.hash;path=path.replace(/(login=|personRu=|personEn=|email=|password=|passwd=|pass=|resend=|phone=)([^&]*)/gi,\"$1[edited]\"),ga(\"send\",\"pageview\",path);-->\\n        <!-- </script>-->\\n        <!-- End Google Analytics -->\\n        <link rel=\"shortcut icon\" href=\"/favicon.ico\">\\n        \\n        <script type=\"text/javascript\" async=\"\" src=\"https://www.googletagmanager.com/gtag/js?id=G-1X3G5S3G44&amp;cx=c&amp;_slc=1\"></script><script type=\"text/javascript\" async=\"\" src=\"https://www.googletagmanager.com/gtag/js?id=G-YBVZ79X7XD&amp;cx=c&amp;_slc=1\"></script><script type=\"text/javascript\" async=\"\" src=\"https://www.google-analytics.com/analytics.js\"></script><script async=\"\" src=\"https://mc.yandex.ru/metrika/tag.js\"></script><script async=\"\" src=\"https://www.googletagmanager.com/gtm.js?id=GTM-NQPPJQV\"></script><script async=\"\" src=\"https://www.google-analytics.com/analytics.js\"></script><script type=\"text/javascript\" src=\"/static/frontend-entry/bundle.7709dbece824ed81e2fa.bundle.js\"></script>\\n        \\n        <!-- Переехало в frontend-scripts в рамках RCWEB-10158-->\\n        <!-- <script async type=\"text/javascript\" src=\"https://mc.yandex.ru/metrika/tag.js\"></script>-->\\n        <!-- <script async type=\"text/javascript\" src=\"https://www.google-analytics.com/analytics.js\"></script>-->\\n        <!-- <script async type=\"text/javascript\" src=\"https://www.googletagmanager.com/gtm.js?id=GTM-K9MTVC\"></script-->\\n\\n        <script src=\"https://www.nic.ru/scripts/external.bundle.js?1696067404556\" defer=\"\"></script>\\n        <script src=\"https://www.nic.ru/scripts/internal.bundle.js?1696067404556\" defer=\"\"></script>\\n        <script async=\"\" type=\"text/javascript\" src=\"https://www.googletagmanager.com/gtag/js?id=G-7LJ3G8P6NN&amp;l=dataLayer&amp;cx=c\"></script>\\n        <style>\\n          body {\\n            display: flex;\\n            flex-direction: column;\\n            box-sizing: border-box;\\n            background-color: #FAFAFA;\\n            margin: 0;\\n          }\\n\\n          @font-face {\\n            font-family: \\'Noto Sans\\';\\n            font-style: normal;\\n            font-weight: 400;\\n            font-display: swap;\\n            src: local(\\'Noto Sans\\'), local(\\'NotoSans\\'), url(\"/static/frontend-entry/NotoSans-Regular.ttf\") format(\\'opentype\\');\\n          }\\n        \\n          @font-face {\\n            font-family: \\'Noto Sans\\';\\n            font-style: normal;\\n            font-weight: 700;\\n            font-display: swap;\\n            src: local(\\'Noto Sans\\'), local(\\'NotoSans\\'), url(\"/static/frontend-entry/NotoSans-Bold.ttf\") format(\\'opentype\\');\\n          }\\n        </style>\\n      <meta http-equiv=\"origin-trial\" content=\"AymqwRC7u88Y4JPvfIF2F37QKylC04248hLCdJAsh8xgOfe/dVJPV3XS3wLFca1ZMVOtnBfVjaCMTVudWM//5g4AAAB7eyJvcmlnaW4iOiJodHRwczovL3d3dy5nb29nbGV0YWdtYW5hZ2VyLmNvbTo0NDMiLCJmZWF0dXJlIjoiUHJpdmFjeVNhbmRib3hBZHNBUElzIiwiZXhwaXJ5IjoxNjk1MTY3OTk5LCJpc1RoaXJkUGFydHkiOnRydWV9\"><meta http-equiv=\"origin-trial\" content=\"AymqwRC7u88Y4JPvfIF2F37QKylC04248hLCdJAsh8xgOfe/dVJPV3XS3wLFca1ZMVOtnBfVjaCMTVudWM//5g4AAAB7eyJvcmlnaW4iOiJodHRwczovL3d3dy5nb29nbGV0YWdtYW5hZ2VyLmNvbTo0NDMiLCJmZWF0dXJlIjoiUHJpdmFjeVNhbmRib3hBZHNBUElzIiwiZXhwaXJ5IjoxNjk1MTY3OTk5LCJpc1RoaXJkUGFydHkiOnRydWV9\"></head>\\n      <body>\\n        <div class=\"body-container\"><div id=\"frontend-parking\" data-reactroot=\"\"><div id=\"__frontend-parking_PAGE_HEAD__\"><script type=\"application/json\" id=\"__frontend-parking_PAGE_PROPS__\">{\"manifest\":{\"ParkingPage.css\":\"/static/frontend-parking/ParkingPage.5ae915a3aa3f0bf6d6ef.css\",\"ParkingPage.js\":\"/static/frontend-parking/ParkingPage.5ae915a3aa3f0bf6d6ef.bundle.js\",\"ParkingPage.css.map\":\"/static/frontend-parking/ParkingPage.5ae915a3aa3f0bf6d6ef.css.map\",\"ParkingPage.js.map\":\"/static/frontend-parking/ParkingPage.5ae915a3aa3f0bf6d6ef.bundle.js.map\"},\"serverConfig\":{\"analyticsParams\":\"?utm_source=domainsellpage&utm_medium=referral\",\"api\":{\"domainParkingInfo\":\"/\",\"domainShop\":\"/parking-page\"},\"baseURL\":\"https://www.nic.ru\",\"links\":{\"lot\":{\"en\":\"https://www.nic.ru/en/shop/lot/\",\"ru\":\"https://www.nic.ru/shop/lot/\"},\"nic\":{\"en\":\"https://www.nic.ru/en/\",\"ru\":\"https://www.nic.ru/\"},\"shop\":{\"en\":\"https://www.nic.ru/en/shop/\",\"ru\":\"https://www.nic.ru/shop/\"}},\"localePath\":{\"en\":\"/en\",\"ru\":\"/\"}},\"serverState\":{\"router\":{\"location\":{\"pathname\":\"/\",\"search\":\"\",\"hash\":\"\",\"key\":\"opyq3d\",\"query\":{}},\"action\":\"POP\"},\"domainInfo\":{\"isLoaded\":false,\"haggle\":false,\"prices\":[],\"priceDetails\":{}},\"sourceInfo\":{\"domain\":\"\",\"locale\":\"ru\",\"links\":{\"nic\":{\"ru\":\"https://www.nic.ru/\",\"en\":\"https://www.nic.ru/en/\"},\"shop\":{\"ru\":\"https://www.nic.ru/shop/\",\"en\":\"https://www.nic.ru/en/shop/\"},\"lot\":{\"ru\":\"https://www.nic.ru/shop/lot/\",\"en\":\"https://www.nic.ru/en/shop/lot/\"}}},\"blocks\":{\"ru\":[],\"en\":[]}},\"path\":\"/\"}</script><script id=\"__frontend-parking_PAGE_MANIFEST__\" type=\"application/json\">{\"ParkingPage.css\":\"/static/frontend-parking/ParkingPage.5ae915a3aa3f0bf6d6ef.css\",\"ParkingPage.js\":\"/static/frontend-parking/ParkingPage.5ae915a3aa3f0bf6d6ef.bundle.js\",\"ParkingPage.css.map\":\"/static/frontend-parking/ParkingPage.5ae915a3aa3f0bf6d6ef.css.map\",\"ParkingPage.js.map\":\"/static/frontend-parking/ParkingPage.5ae915a3aa3f0bf6d6ef.bundle.js.map\"}</script><script async=\"\" src=\"/static/frontend-parking/ParkingPage.5ae915a3aa3f0bf6d6ef.bundle.js\"></script><link rel=\"stylesheet\" href=\"/static/frontend-parking/ParkingPage.5ae915a3aa3f0bf6d6ef.css\"></div><div class=\"parking__wrapper___3QNQY\"><div class=\"parking__header___3F-lN\"><span class=\"_0_6_0_text__base___3pCmD _0_6_0_text__preset-h3___-O-Cz _0_6_0_text__color-primary___CtPsB text\">Домен продается</span><div class=\"parking__lang___11BqK\"><button type=\"button\" class=\"langButton__clearButton___2csJ_\"><span class=\"_0_6_0_text__base___3pCmD _0_6_0_text__preset-h3___-O-Cz _0_6_0_text__color-primary___CtPsB text\">Рус</span></button><button type=\"button\" class=\"langButton__clearButton___2csJ_\"><span class=\"_0_6_0_text__base___3pCmD _0_6_0_text__preset-h3___-O-Cz _0_6_0_text__color-secondary___23x9g text\">Eng</span></button></div></div><div class=\"parking__content___2dkVh\"><div class=\"body__base___dqEyY\"><div></div><div class=\"body__centerElementWrapper___1PDAC\"><div class=\"body__buttonWrapper___Tb_4E\"><a class=\"body__button___2wtDh\" href=\"https://www.nic.ru/shop/lot/\">Купить в RU-CENTER</a></div></div></div></div><div class=\"parking__bottom___2UyJ_\"><a href=\"https://www.nic.ru/\"><svg viewBox=\"0 0 100 42\" fill=\"none\" xmlns=\"http://www.w3.org/2000/svg\" class=\"parking__logo___3jrFv\"><path d=\"M39.2312 20.9475C38.5291 20.9475 37.8711 20.8599 37.2572 20.6853C36.643 20.5101 36.1075 20.2386 35.6492 19.8703C35.2028 19.5083 34.8549 19.0539 34.6046 18.5081C34.354 17.9616 34.2285 17.3299 34.2285 16.6124C34.2285 15.6855 34.4043 14.8246 34.7557 14.0302C35.1069 13.2354 35.6004 12.5411 36.235 11.9456C36.8587 11.3621 37.6191 10.9003 38.5167 10.5599C39.4146 10.219 40.3862 10.0491 41.43 10.0491C42.0596 10.0491 42.6839 10.1195 43.304 10.2608C43.9238 10.4019 44.4992 10.6071 45.0306 10.8765L44.3344 13.7005H43.8667C43.5072 13.2651 43.0992 12.9417 42.6442 12.73C42.1892 12.5185 41.6776 12.4122 41.1093 12.4122C40.0711 12.4122 39.2371 12.7831 38.6084 13.5229C37.9788 14.2621 37.6643 15.1854 37.6643 16.2902C37.6643 17.0582 37.8584 17.6323 38.2463 18.0124C38.6344 18.3932 39.2371 18.5838 40.056 18.5838C40.6907 18.5838 41.2696 18.4531 41.7921 18.193C42.3143 17.9322 42.7617 17.643 43.1347 17.324H43.6016L42.9054 20.1468C42.2457 20.4352 41.6667 20.6404 41.1694 20.7634C40.6714 20.8857 40.0247 20.9475 39.2312 20.9475Z\" fill=\"#14295E\"></path><path d=\"M53.1509 14.1788C53.1695 14.0678 53.1828 13.9659 53.1923 13.8744C53.2017 13.7815 53.2065 13.6867 53.2065 13.5876C53.2065 13.1011 53.0556 12.7287 52.7556 12.47C52.455 12.211 52.0227 12.0815 51.4591 12.0815C50.7787 12.0815 50.2065 12.2666 49.7435 12.636C49.2798 13.0064 48.9298 13.5204 48.6905 14.1788H53.1509ZM50.6269 20.948C48.8727 20.948 47.5192 20.5584 46.5648 19.7785C45.6118 18.9989 45.1343 17.922 45.1343 16.5476C45.1343 15.6088 45.2902 14.7467 45.602 13.9614C45.9136 13.1759 46.363 12.486 46.9503 11.8903C47.5121 11.3132 48.2153 10.8571 49.0582 10.5185C49.9023 10.1814 50.829 10.0122 51.8381 10.0122C53.371 10.0122 54.5287 10.3243 55.3083 10.9474C56.0872 11.5707 56.4772 12.4905 56.4772 13.706C56.4772 14.1239 56.4352 14.5317 56.3532 14.9311C56.2704 15.3303 56.1618 15.7267 56.0275 16.119H48.3689V16.3311C48.3689 17.0477 48.6204 17.6093 49.121 18.0138C49.6236 18.4189 50.3929 18.6208 51.4278 18.6208C52.1503 18.6208 52.834 18.4985 53.4804 18.2532C54.1263 18.0082 54.6887 17.7343 55.1659 17.4347H55.5337L54.9183 20.0924C54.2769 20.3745 53.6017 20.5878 52.8923 20.7312C52.184 20.8758 51.4287 20.948 50.6269 20.948Z\" fill=\"#14295E\"></path><path d=\"M68.7965 10.7206C68.2832 10.2734 67.5642 10.0494 66.6405 10.0494C65.9678 10.0494 65.3521 10.1757 64.792 10.4257C64.2317 10.6779 63.6136 11.0274 62.9346 11.475L63.2065 10.3343L58.7385 10.3351L58.2337 12.5144H59.3852L57.5098 20.6619H60.8287L62.5044 13.3418C62.9323 13.1149 63.3172 12.9453 63.6601 12.831C64.0021 12.7178 64.305 12.6611 64.5681 12.6611C65.1059 12.6611 65.4755 12.7529 65.6772 12.9364C65.879 13.1214 65.9802 13.4122 65.9802 13.8107C65.9802 14.0439 65.9556 14.2963 65.9062 14.5651C65.858 14.8347 65.7908 15.1599 65.7059 15.5395L64.5355 20.6619H67.8761L69.4119 13.9393C69.466 13.7071 69.5068 13.4832 69.5305 13.2679C69.5547 13.0534 69.5666 12.8539 69.5666 12.67C69.5666 11.818 69.3098 11.1679 68.7965 10.7206Z\" fill=\"#14295E\"></path><path d=\"M86.2181 14.1788C86.2359 14.0678 86.2498 13.9659 86.259 13.8744C86.2684 13.7815 86.2735 13.6867 86.2735 13.5876C86.2735 13.1011 86.1229 12.7287 85.822 12.47C85.522 12.211 85.0897 12.0815 84.5255 12.0815C83.8448 12.0815 83.2732 12.2666 82.8105 12.636C82.3474 13.0064 81.9971 13.5204 81.7569 14.1788H86.2181ZM83.6942 20.948C81.9394 20.948 80.5859 20.5584 79.632 19.7785C78.6788 18.9989 78.2007 17.922 78.2007 16.5476C78.2007 15.6088 78.3569 14.7467 78.6684 13.9614C78.9803 13.1759 79.4297 12.486 80.017 11.8903C80.5791 11.3132 81.2818 10.8571 82.1255 10.5185C82.9693 10.1814 83.8951 10.0122 84.9042 10.0122C86.4383 10.0122 87.5954 10.3243 88.375 10.9474C89.1545 11.5707 89.5439 12.4905 89.5439 13.706C89.5439 14.1239 89.5022 14.5317 89.4196 14.9311C89.3377 15.3303 89.2285 15.7267 89.0939 16.119H81.4356V16.3311C81.4356 17.0477 81.6865 17.6093 82.1886 18.0138C82.6909 18.4189 83.4593 18.6208 84.4945 18.6208C85.217 18.6208 85.9013 18.4985 86.5468 18.2532C87.1936 18.0082 87.7557 17.7343 88.2329 17.4347H88.6004L87.9856 20.0924C87.3436 20.3745 86.6681 20.5878 85.9596 20.7312C85.2501 20.8758 84.4954 20.948 83.6942 20.948Z\" fill=\"#14295E\"></path><path d=\"M99.2681 13.4888H98.9758C98.8288 13.4395 98.622 13.403 98.3533 13.3789C98.0853 13.3543 97.8202 13.3412 97.5578 13.3412C97.124 13.3412 96.7066 13.3742 96.3042 13.438C95.9013 13.5028 95.4868 13.6046 95.0607 13.7463L93.4622 20.6619H90.1421L92.5276 10.3339H95.8489L95.4986 11.8518C96.1202 11.3921 96.7406 11.0182 97.3604 10.7295C97.9791 10.4418 98.6033 10.2974 99.2315 10.2974C99.3474 10.2974 99.4773 10.3007 99.6202 10.3066C99.764 10.3129 99.8906 10.3221 99.9998 10.3339L99.2681 13.4888Z\" fill=\"#14295E\"></path><path d=\"M76.5138 10.3344L77.1899 7.38243H73.8798L73.2017 10.3344H71.8428L71.3381 12.5143H72.7301L70.8579 20.6624H74.168C74.1881 20.5789 74.205 20.4949 74.2248 20.4111L76.0396 12.5143H78.2428L78.7443 10.3344H76.5138Z\" fill=\"#14295E\"></path><path d=\"M11.7508 12.4608C11.4899 12.2898 11.1042 12.2045 10.5951 12.2045H9.2993L8.66681 14.9427H9.9554C10.6505 14.9427 11.1891 14.8008 11.5705 14.5163C11.9524 14.2315 12.1431 13.8362 12.1431 13.3319C12.1431 12.9221 12.0131 12.6313 11.7508 12.4608ZM24.9706 16.7962C24.6395 18.2069 24.0778 19.23 23.2867 19.8664C22.4953 20.5029 21.3494 20.8215 19.8493 20.8215C18.5122 20.8215 17.5007 20.5807 16.8142 20.0993C16.1277 19.6176 15.7851 18.8891 15.7851 17.9117C15.7851 17.7115 15.8003 17.5081 15.8321 17.3026C15.8639 17.0971 15.898 16.91 15.935 16.7413L17.3935 10.4298H20.0342L18.5801 16.7478C18.5474 16.8758 18.5218 17.0166 18.501 17.1692C18.4796 17.3216 18.47 17.449 18.47 17.5491C18.47 17.9779 18.5986 18.3037 18.8564 18.5247C19.1129 18.7459 19.539 18.857 20.1346 18.857C20.7132 18.857 21.1801 18.6966 21.5364 18.3774C21.8932 18.0581 22.1495 17.561 22.3046 16.8853L23.7972 10.4298H26.4429L24.9706 16.7962ZM14.551 20.6232H11.6275L9.71537 16.8853H8.24415L7.38202 20.6232H4.764L7.10776 10.4298H11.071C12.313 10.4298 13.272 10.6403 13.9504 11.0624C14.6279 11.4847 14.9663 12.13 14.9663 12.9963C14.9663 13.8139 14.7186 14.5002 14.2228 15.0568C13.7274 15.6139 13.055 16.0339 12.2038 16.3169L14.551 20.6232ZM15.7148 0C7.0353 0 0 7.06316 0 15.7755C0 24.4884 7.0353 31.5513 15.7148 31.5513C24.3941 31.5513 31.4311 24.4884 31.4311 15.7755C31.4311 7.06316 24.3941 0 15.7148 0Z\" fill=\"#14295E\"></path><path d=\"M67.6909 29.0176C79.3004 28.8359 89.1729 30.3268 99.1019 32.6982C90.5281 28.8251 81.2373 26.3193 70.6522 25.6576C68.319 25.5117 65.9229 25.4555 63.4578 25.4939C43.5033 25.8058 25.779 32.2138 14.1929 42C28.0245 34.4046 46.8631 29.342 67.6909 29.0176Z\" fill=\"#EF3F23\"></path></svg></a><div class=\"parking__shopLink___2cSRD\"><a class=\"parking__none___3ikcX\" href=\"https://www.nic.ru/shop/\"><div class=\"rc-items-center\"><span class=\"_0_6_0_text__base___3pCmD _0_6_0_text__preset-h3___-O-Cz _0_6_0_text__color-primary___CtPsB text\">Другие домены в магазине доменов</span><div class=\"rc-inline rc-ml-10\"><svg width=\"19\" height=\"13\" viewBox=\"0 0 19 13\" fill=\"none\" xmlns=\"http://www.w3.org/2000/svg\"><path d=\"M10.5883 12.025L16.9412 6.47501L10.5883 0.92501\" stroke=\"#14295E\" stroke-width=\"2\"></path><path d=\"M16.4118 6.47501H0\" stroke=\"#14295E\" stroke-width=\"2\"></path></svg></div></div></a></div></div></div></div></div>\\n        <div id=\"portal_zone\"><div>\\n          \\n    </div></div><script type=\"text/javascript\" id=\"\">var weblytics={helper:{searchWord:google_tag_manager[\"rm\"][\"9946574\"](121),query:google_tag_manager[\"rm\"][\"9946574\"](123),filters:google_tag_manager[\"rm\"][\"9946574\"](124)},order:{}};</script><script type=\"text/javascript\" id=\"\">window.addEventListener(\"beforeunload\",function(){var a=(new Date).getTime()-google_tag_manager[\"rm\"][\"9946574\"](125);25>a/6E4&&\"blog\"==google_tag_manager[\"rm\"][\"9946574\"](127)&&window.dataLayer.push({event:\"unloadEvent\",timeonpages:a})});</script></body></html>'"
            ],
            "application/vnd.google.colaboratory.intrinsic+json": {
              "type": "string"
            }
          },
          "metadata": {},
          "execution_count": 15
        }
      ]
    },
    {
      "cell_type": "code",
      "source": [
        "text1"
      ],
      "metadata": {
        "colab": {
          "base_uri": "https://localhost:8080/",
          "height": 53
        },
        "id": "ysfGLWd32W6d",
        "outputId": "e731a97c-5d98-49f5-f550-33be4e64214b"
      },
      "execution_count": 16,
      "outputs": [
        {
          "output_type": "execute_result",
          "data": {
            "text/plain": [
              "' Купить в RU-CENTER Другие домены в магазине доменов Купить в RU-CENTER Другие домены в магазине доменов Купить в RU-CENTER Другие домены в магазине доменов Купить в RU-CENTER Купить в RU-CENTER Купить в RU-CENTER Купить в RU-CENTER Другие домены в магазине доменов Другие домены в магазине доменов Другие домены в магазине доменов Другие домены в магазине доменов'"
            ],
            "application/vnd.google.colaboratory.intrinsic+json": {
              "type": "string"
            }
          },
          "metadata": {},
          "execution_count": 16
        }
      ]
    },
    {
      "cell_type": "markdown",
      "source": [
        "Неплохо получилось."
      ],
      "metadata": {
        "id": "dAKSu9El7thy"
      }
    },
    {
      "cell_type": "code",
      "source": [
        "def clean_pipeline(html):\n",
        "  cl_soup = clean_html(html)\n",
        "  cl_soup = remove_ads(cl_soup)\n",
        "  cl_soup = merge_split_words(cl_soup)\n",
        "  text = extract_structured_text(cl_soup)\n",
        "  return text"
      ],
      "metadata": {
        "id": "1dMUd1r48T1B"
      },
      "execution_count": 17,
      "outputs": []
    },
    {
      "cell_type": "markdown",
      "source": [
        "## Этап 2 : Обработка NER\n",
        "\n",
        "Тут надо выбрать дальнейший путь - какую модель использовать.\n",
        "\n"
      ],
      "metadata": {
        "id": "FKx9JFhm8iLN"
      }
    },
    {
      "cell_type": "markdown",
      "source": [
        "Вариант 1 : spacy. Она быстрая, но дает среднее качество\n",
        "\n",
        "Вариант 2 : BERT/RoBERTa. Медленная, но дает качество лучше\n",
        "\n",
        "Вариант 3 : зафайнтюненый BERT. Медленая, но дает лучшее качество. Этот вариант недоступен, поскольку нет обучающей выборки, но потенциально, если были бы, то почему бы и нет."
      ],
      "metadata": {
        "id": "61l3fsTm9dIJ"
      }
    },
    {
      "cell_type": "markdown",
      "source": [
        "Короче после многих экспериментов я пришел к выводу, что буду использовать spacy для русского языка для поиска контактов, а почты и номера с помощью регулярок. На встрече можем лучше обсудить, почему я пошел по первому пути - причины есть, но они инженерные."
      ],
      "metadata": {
        "id": "oobE92KHdUuu"
      }
    },
    {
      "cell_type": "code",
      "source": [
        "!pip install spacy\n",
        "!python -m spacy download ru_core_news_lg"
      ],
      "metadata": {
        "colab": {
          "base_uri": "https://localhost:8080/"
        },
        "id": "CNQVStjE2QjP",
        "outputId": "e8f27dae-1d61-4201-9745-aa7463634469"
      },
      "execution_count": 18,
      "outputs": [
        {
          "output_type": "stream",
          "name": "stdout",
          "text": [
            "Requirement already satisfied: spacy in /usr/local/lib/python3.11/dist-packages (3.8.5)\n",
            "Requirement already satisfied: spacy-legacy<3.1.0,>=3.0.11 in /usr/local/lib/python3.11/dist-packages (from spacy) (3.0.12)\n",
            "Requirement already satisfied: spacy-loggers<2.0.0,>=1.0.0 in /usr/local/lib/python3.11/dist-packages (from spacy) (1.0.5)\n",
            "Requirement already satisfied: murmurhash<1.1.0,>=0.28.0 in /usr/local/lib/python3.11/dist-packages (from spacy) (1.0.12)\n",
            "Requirement already satisfied: cymem<2.1.0,>=2.0.2 in /usr/local/lib/python3.11/dist-packages (from spacy) (2.0.11)\n",
            "Requirement already satisfied: preshed<3.1.0,>=3.0.2 in /usr/local/lib/python3.11/dist-packages (from spacy) (3.0.9)\n",
            "Requirement already satisfied: thinc<8.4.0,>=8.3.4 in /usr/local/lib/python3.11/dist-packages (from spacy) (8.3.4)\n",
            "Requirement already satisfied: wasabi<1.2.0,>=0.9.1 in /usr/local/lib/python3.11/dist-packages (from spacy) (1.1.3)\n",
            "Requirement already satisfied: srsly<3.0.0,>=2.4.3 in /usr/local/lib/python3.11/dist-packages (from spacy) (2.5.1)\n",
            "Requirement already satisfied: catalogue<2.1.0,>=2.0.6 in /usr/local/lib/python3.11/dist-packages (from spacy) (2.0.10)\n",
            "Requirement already satisfied: weasel<0.5.0,>=0.1.0 in /usr/local/lib/python3.11/dist-packages (from spacy) (0.4.1)\n",
            "Requirement already satisfied: typer<1.0.0,>=0.3.0 in /usr/local/lib/python3.11/dist-packages (from spacy) (0.15.2)\n",
            "Requirement already satisfied: tqdm<5.0.0,>=4.38.0 in /usr/local/lib/python3.11/dist-packages (from spacy) (4.67.1)\n",
            "Requirement already satisfied: numpy>=1.19.0 in /usr/local/lib/python3.11/dist-packages (from spacy) (2.0.2)\n",
            "Requirement already satisfied: requests<3.0.0,>=2.13.0 in /usr/local/lib/python3.11/dist-packages (from spacy) (2.32.3)\n",
            "Requirement already satisfied: pydantic!=1.8,!=1.8.1,<3.0.0,>=1.7.4 in /usr/local/lib/python3.11/dist-packages (from spacy) (2.11.2)\n",
            "Requirement already satisfied: jinja2 in /usr/local/lib/python3.11/dist-packages (from spacy) (3.1.6)\n",
            "Requirement already satisfied: setuptools in /usr/local/lib/python3.11/dist-packages (from spacy) (75.2.0)\n",
            "Requirement already satisfied: packaging>=20.0 in /usr/local/lib/python3.11/dist-packages (from spacy) (24.2)\n",
            "Requirement already satisfied: langcodes<4.0.0,>=3.2.0 in /usr/local/lib/python3.11/dist-packages (from spacy) (3.5.0)\n",
            "Requirement already satisfied: language-data>=1.2 in /usr/local/lib/python3.11/dist-packages (from langcodes<4.0.0,>=3.2.0->spacy) (1.3.0)\n",
            "Requirement already satisfied: annotated-types>=0.6.0 in /usr/local/lib/python3.11/dist-packages (from pydantic!=1.8,!=1.8.1,<3.0.0,>=1.7.4->spacy) (0.7.0)\n",
            "Requirement already satisfied: pydantic-core==2.33.1 in /usr/local/lib/python3.11/dist-packages (from pydantic!=1.8,!=1.8.1,<3.0.0,>=1.7.4->spacy) (2.33.1)\n",
            "Requirement already satisfied: typing-extensions>=4.12.2 in /usr/local/lib/python3.11/dist-packages (from pydantic!=1.8,!=1.8.1,<3.0.0,>=1.7.4->spacy) (4.13.1)\n",
            "Requirement already satisfied: typing-inspection>=0.4.0 in /usr/local/lib/python3.11/dist-packages (from pydantic!=1.8,!=1.8.1,<3.0.0,>=1.7.4->spacy) (0.4.0)\n",
            "Requirement already satisfied: charset-normalizer<4,>=2 in /usr/local/lib/python3.11/dist-packages (from requests<3.0.0,>=2.13.0->spacy) (3.4.1)\n",
            "Requirement already satisfied: idna<4,>=2.5 in /usr/local/lib/python3.11/dist-packages (from requests<3.0.0,>=2.13.0->spacy) (3.10)\n",
            "Requirement already satisfied: urllib3<3,>=1.21.1 in /usr/local/lib/python3.11/dist-packages (from requests<3.0.0,>=2.13.0->spacy) (2.3.0)\n",
            "Requirement already satisfied: certifi>=2017.4.17 in /usr/local/lib/python3.11/dist-packages (from requests<3.0.0,>=2.13.0->spacy) (2025.1.31)\n",
            "Requirement already satisfied: blis<1.3.0,>=1.2.0 in /usr/local/lib/python3.11/dist-packages (from thinc<8.4.0,>=8.3.4->spacy) (1.2.1)\n",
            "Requirement already satisfied: confection<1.0.0,>=0.0.1 in /usr/local/lib/python3.11/dist-packages (from thinc<8.4.0,>=8.3.4->spacy) (0.1.5)\n",
            "Requirement already satisfied: click>=8.0.0 in /usr/local/lib/python3.11/dist-packages (from typer<1.0.0,>=0.3.0->spacy) (8.1.8)\n",
            "Requirement already satisfied: shellingham>=1.3.0 in /usr/local/lib/python3.11/dist-packages (from typer<1.0.0,>=0.3.0->spacy) (1.5.4)\n",
            "Requirement already satisfied: rich>=10.11.0 in /usr/local/lib/python3.11/dist-packages (from typer<1.0.0,>=0.3.0->spacy) (13.9.4)\n",
            "Requirement already satisfied: cloudpathlib<1.0.0,>=0.7.0 in /usr/local/lib/python3.11/dist-packages (from weasel<0.5.0,>=0.1.0->spacy) (0.21.0)\n",
            "Requirement already satisfied: smart-open<8.0.0,>=5.2.1 in /usr/local/lib/python3.11/dist-packages (from weasel<0.5.0,>=0.1.0->spacy) (7.1.0)\n",
            "Requirement already satisfied: MarkupSafe>=2.0 in /usr/local/lib/python3.11/dist-packages (from jinja2->spacy) (3.0.2)\n",
            "Requirement already satisfied: marisa-trie>=1.1.0 in /usr/local/lib/python3.11/dist-packages (from language-data>=1.2->langcodes<4.0.0,>=3.2.0->spacy) (1.2.1)\n",
            "Requirement already satisfied: markdown-it-py>=2.2.0 in /usr/local/lib/python3.11/dist-packages (from rich>=10.11.0->typer<1.0.0,>=0.3.0->spacy) (3.0.0)\n",
            "Requirement already satisfied: pygments<3.0.0,>=2.13.0 in /usr/local/lib/python3.11/dist-packages (from rich>=10.11.0->typer<1.0.0,>=0.3.0->spacy) (2.18.0)\n",
            "Requirement already satisfied: wrapt in /usr/local/lib/python3.11/dist-packages (from smart-open<8.0.0,>=5.2.1->weasel<0.5.0,>=0.1.0->spacy) (1.17.2)\n",
            "Requirement already satisfied: mdurl~=0.1 in /usr/local/lib/python3.11/dist-packages (from markdown-it-py>=2.2.0->rich>=10.11.0->typer<1.0.0,>=0.3.0->spacy) (0.1.2)\n",
            "Collecting ru-core-news-lg==3.8.0\n",
            "  Downloading https://github.com/explosion/spacy-models/releases/download/ru_core_news_lg-3.8.0/ru_core_news_lg-3.8.0-py3-none-any.whl (513.4 MB)\n",
            "\u001b[2K     \u001b[90m━━━━━━━━━━━━━━━━━━━━━━━━━━━━━━━━━━━━━━━━\u001b[0m \u001b[32m513.4/513.4 MB\u001b[0m \u001b[31m814.4 kB/s\u001b[0m eta \u001b[36m0:00:00\u001b[0m\n",
            "\u001b[?25hCollecting pymorphy3>=1.0.0 (from ru-core-news-lg==3.8.0)\n",
            "  Downloading pymorphy3-2.0.3-py3-none-any.whl.metadata (1.9 kB)\n",
            "Collecting dawg2-python>=0.8.0 (from pymorphy3>=1.0.0->ru-core-news-lg==3.8.0)\n",
            "  Downloading dawg2_python-0.9.0-py3-none-any.whl.metadata (7.5 kB)\n",
            "Collecting pymorphy3-dicts-ru (from pymorphy3>=1.0.0->ru-core-news-lg==3.8.0)\n",
            "  Downloading pymorphy3_dicts_ru-2.4.417150.4580142-py2.py3-none-any.whl.metadata (2.0 kB)\n",
            "Downloading pymorphy3-2.0.3-py3-none-any.whl (53 kB)\n",
            "\u001b[2K   \u001b[90m━━━━━━━━━━━━━━━━━━━━━━━━━━━━━━━━━━━━━━━━\u001b[0m \u001b[32m53.8/53.8 kB\u001b[0m \u001b[31m2.0 MB/s\u001b[0m eta \u001b[36m0:00:00\u001b[0m\n",
            "\u001b[?25hDownloading dawg2_python-0.9.0-py3-none-any.whl (9.3 kB)\n",
            "Downloading pymorphy3_dicts_ru-2.4.417150.4580142-py2.py3-none-any.whl (8.4 MB)\n",
            "\u001b[2K   \u001b[90m━━━━━━━━━━━━━━━━━━━━━━━━━━━━━━━━━━━━━━━━\u001b[0m \u001b[32m8.4/8.4 MB\u001b[0m \u001b[31m61.8 MB/s\u001b[0m eta \u001b[36m0:00:00\u001b[0m\n",
            "\u001b[?25hInstalling collected packages: pymorphy3-dicts-ru, dawg2-python, pymorphy3, ru-core-news-lg\n",
            "Successfully installed dawg2-python-0.9.0 pymorphy3-2.0.3 pymorphy3-dicts-ru-2.4.417150.4580142 ru-core-news-lg-3.8.0\n",
            "\u001b[38;5;2m✔ Download and installation successful\u001b[0m\n",
            "You can now load the package via spacy.load('ru_core_news_lg')\n",
            "\u001b[38;5;3m⚠ Restart to reload dependencies\u001b[0m\n",
            "If you are in a Jupyter or Colab notebook, you may need to restart Python in\n",
            "order to load all the package's dependencies. You can do this by selecting the\n",
            "'Restart kernel' or 'Restart runtime' option.\n"
          ]
        }
      ]
    },
    {
      "cell_type": "code",
      "source": [
        "import spacy\n",
        "\n",
        "# Загрузка модели\n",
        "nlp = spacy.load(\"ru_core_news_lg\")\n",
        "nlp.max_length = 3000000"
      ],
      "metadata": {
        "id": "IYTv0rdl2aBP"
      },
      "execution_count": 19,
      "outputs": []
    },
    {
      "cell_type": "code",
      "source": [
        "def extract_contacts(text):\n",
        "\n",
        "    contacts = {\n",
        "        'phones': set(),\n",
        "        'emails': set(),\n",
        "        'addresses': set(),\n",
        "        'persons': set(),\n",
        "        'organizations': set()\n",
        "    }\n",
        "    doc = nlp(text)\n",
        "      # Регулярные выражения для основных типов контактов\n",
        "    phone_regex = r'(?:\\+7|8)[\\s\\-]?\\(?\\d{3}\\)?[\\s\\-]?\\d{3}[\\s\\-]?\\d{2}[\\s\\-]?\\d{2}'\n",
        "    email_regex = r'[a-zA-Z0-9_.+-]+@[a-zA-Z0-9-]+\\.[a-zA-Z0-9-.]+'\n",
        "    contacts['phones'].update(re.findall(phone_regex, text))\n",
        "    contacts['emails'].update(re.findall(email_regex, text))\n",
        "\n",
        "    #print(doc)\n",
        "    # Анализ NER-результатов\n",
        "    for ent in doc.ents:\n",
        "        if ent.label_ == 'PER':\n",
        "            contacts['persons'].add(ent.text)\n",
        "        elif ent.label_ == 'LOC':\n",
        "            contacts['addresses'].add(ent.text)\n",
        "        elif ent.label_ == 'ORG':\n",
        "            contacts['organizations'].add(ent.text)\n",
        "    return contacts"
      ],
      "metadata": {
        "id": "_ZkcPZk42TfY"
      },
      "execution_count": 20,
      "outputs": []
    },
    {
      "cell_type": "code",
      "source": [
        "extract_contacts('Александр идет в МФТИ в Москве +79044691080 чтобы написать в Тюмень по почте mail@mail.ru')\n",
        "print()"
      ],
      "metadata": {
        "colab": {
          "base_uri": "https://localhost:8080/"
        },
        "id": "NfmHBJi44aqn",
        "outputId": "26d1738d-642f-4d9a-b2b4-d064b726b262"
      },
      "execution_count": 21,
      "outputs": [
        {
          "output_type": "stream",
          "name": "stdout",
          "text": [
            "\n"
          ]
        }
      ]
    },
    {
      "cell_type": "code",
      "source": [
        "# Пример текста\n",
        "text = \"Компания Яндекс основана в 1997 году Аркадием Воложем и Ильей Сегаловичем в Москве.\"\n",
        "\n",
        "# Обработка текста\n",
        "doc = nlp(text)\n",
        "\n",
        "# Извлечение сущностей\n",
        "for ent in doc.ents:\n",
        "    print(f\"Текст: {ent.text}, Тип: {ent.label_}, Позиция: {ent.start_char}-{ent.end_char}\")"
      ],
      "metadata": {
        "colab": {
          "base_uri": "https://localhost:8080/"
        },
        "id": "Mpw6PTF74vaR",
        "outputId": "947c395c-c3a7-4f1f-cacf-82162d4f5dcf"
      },
      "execution_count": 22,
      "outputs": [
        {
          "output_type": "stream",
          "name": "stdout",
          "text": [
            "Текст: Яндекс, Тип: ORG, Позиция: 9-15\n",
            "Текст: Аркадием Воложем, Тип: PER, Позиция: 37-53\n",
            "Текст: Ильей Сегаловичем, Тип: PER, Позиция: 56-73\n",
            "Текст: Москве, Тип: LOC, Позиция: 76-82\n"
          ]
        }
      ]
    },
    {
      "cell_type": "code",
      "source": [
        "data_df = pd.DataFrame(columns = ['page_id', 'url', 'phones', 'emails', 'addresses', 'persons', 'organizations'])"
      ],
      "metadata": {
        "id": "TaVtdFYl6KW2"
      },
      "execution_count": 23,
      "outputs": []
    },
    {
      "cell_type": "code",
      "source": [
        "contacts = extract_contacts(text1)\n",
        "new_row = {\n",
        "              'page_id': 0,\n",
        "              'url': df['link'][0],\n",
        "              'phones': contacts['phones'],\n",
        "              'emails': contacts['emails'],\n",
        "              'addresses': contacts['addresses'],\n",
        "              'persons': contacts['persons'],\n",
        "              'orsganizations' : contacts['organizations']\n",
        "          }\n",
        "\n",
        "data_df = pd.concat([data_df, pd.DataFrame([new_row])], ignore_index=True)"
      ],
      "metadata": {
        "id": "9hXHRJym9fzK"
      },
      "execution_count": 24,
      "outputs": []
    },
    {
      "cell_type": "code",
      "source": [
        "data_df"
      ],
      "metadata": {
        "colab": {
          "base_uri": "https://localhost:8080/",
          "height": 81
        },
        "id": "Wv_V76o89wft",
        "outputId": "1a0e8eeb-1ff4-4e63-9cf9-4abd4a7ee422"
      },
      "execution_count": 25,
      "outputs": [
        {
          "output_type": "execute_result",
          "data": {
            "text/plain": [
              "  page_id             url phones emails addresses   persons organizations  \\\n",
              "0       0  http://0009.ru     {}     {}  {Купить}  {Другие}           NaN   \n",
              "\n",
              "  orsganizations  \n",
              "0             {}  "
            ],
            "text/html": [
              "\n",
              "  <div id=\"df-1aba3a03-8eca-4683-8bfb-d91ded8240df\" class=\"colab-df-container\">\n",
              "    <div>\n",
              "<style scoped>\n",
              "    .dataframe tbody tr th:only-of-type {\n",
              "        vertical-align: middle;\n",
              "    }\n",
              "\n",
              "    .dataframe tbody tr th {\n",
              "        vertical-align: top;\n",
              "    }\n",
              "\n",
              "    .dataframe thead th {\n",
              "        text-align: right;\n",
              "    }\n",
              "</style>\n",
              "<table border=\"1\" class=\"dataframe\">\n",
              "  <thead>\n",
              "    <tr style=\"text-align: right;\">\n",
              "      <th></th>\n",
              "      <th>page_id</th>\n",
              "      <th>url</th>\n",
              "      <th>phones</th>\n",
              "      <th>emails</th>\n",
              "      <th>addresses</th>\n",
              "      <th>persons</th>\n",
              "      <th>organizations</th>\n",
              "      <th>orsganizations</th>\n",
              "    </tr>\n",
              "  </thead>\n",
              "  <tbody>\n",
              "    <tr>\n",
              "      <th>0</th>\n",
              "      <td>0</td>\n",
              "      <td>http://0009.ru</td>\n",
              "      <td>{}</td>\n",
              "      <td>{}</td>\n",
              "      <td>{Купить}</td>\n",
              "      <td>{Другие}</td>\n",
              "      <td>NaN</td>\n",
              "      <td>{}</td>\n",
              "    </tr>\n",
              "  </tbody>\n",
              "</table>\n",
              "</div>\n",
              "    <div class=\"colab-df-buttons\">\n",
              "\n",
              "  <div class=\"colab-df-container\">\n",
              "    <button class=\"colab-df-convert\" onclick=\"convertToInteractive('df-1aba3a03-8eca-4683-8bfb-d91ded8240df')\"\n",
              "            title=\"Convert this dataframe to an interactive table.\"\n",
              "            style=\"display:none;\">\n",
              "\n",
              "  <svg xmlns=\"http://www.w3.org/2000/svg\" height=\"24px\" viewBox=\"0 -960 960 960\">\n",
              "    <path d=\"M120-120v-720h720v720H120Zm60-500h600v-160H180v160Zm220 220h160v-160H400v160Zm0 220h160v-160H400v160ZM180-400h160v-160H180v160Zm440 0h160v-160H620v160ZM180-180h160v-160H180v160Zm440 0h160v-160H620v160Z\"/>\n",
              "  </svg>\n",
              "    </button>\n",
              "\n",
              "  <style>\n",
              "    .colab-df-container {\n",
              "      display:flex;\n",
              "      gap: 12px;\n",
              "    }\n",
              "\n",
              "    .colab-df-convert {\n",
              "      background-color: #E8F0FE;\n",
              "      border: none;\n",
              "      border-radius: 50%;\n",
              "      cursor: pointer;\n",
              "      display: none;\n",
              "      fill: #1967D2;\n",
              "      height: 32px;\n",
              "      padding: 0 0 0 0;\n",
              "      width: 32px;\n",
              "    }\n",
              "\n",
              "    .colab-df-convert:hover {\n",
              "      background-color: #E2EBFA;\n",
              "      box-shadow: 0px 1px 2px rgba(60, 64, 67, 0.3), 0px 1px 3px 1px rgba(60, 64, 67, 0.15);\n",
              "      fill: #174EA6;\n",
              "    }\n",
              "\n",
              "    .colab-df-buttons div {\n",
              "      margin-bottom: 4px;\n",
              "    }\n",
              "\n",
              "    [theme=dark] .colab-df-convert {\n",
              "      background-color: #3B4455;\n",
              "      fill: #D2E3FC;\n",
              "    }\n",
              "\n",
              "    [theme=dark] .colab-df-convert:hover {\n",
              "      background-color: #434B5C;\n",
              "      box-shadow: 0px 1px 3px 1px rgba(0, 0, 0, 0.15);\n",
              "      filter: drop-shadow(0px 1px 2px rgba(0, 0, 0, 0.3));\n",
              "      fill: #FFFFFF;\n",
              "    }\n",
              "  </style>\n",
              "\n",
              "    <script>\n",
              "      const buttonEl =\n",
              "        document.querySelector('#df-1aba3a03-8eca-4683-8bfb-d91ded8240df button.colab-df-convert');\n",
              "      buttonEl.style.display =\n",
              "        google.colab.kernel.accessAllowed ? 'block' : 'none';\n",
              "\n",
              "      async function convertToInteractive(key) {\n",
              "        const element = document.querySelector('#df-1aba3a03-8eca-4683-8bfb-d91ded8240df');\n",
              "        const dataTable =\n",
              "          await google.colab.kernel.invokeFunction('convertToInteractive',\n",
              "                                                    [key], {});\n",
              "        if (!dataTable) return;\n",
              "\n",
              "        const docLinkHtml = 'Like what you see? Visit the ' +\n",
              "          '<a target=\"_blank\" href=https://colab.research.google.com/notebooks/data_table.ipynb>data table notebook</a>'\n",
              "          + ' to learn more about interactive tables.';\n",
              "        element.innerHTML = '';\n",
              "        dataTable['output_type'] = 'display_data';\n",
              "        await google.colab.output.renderOutput(dataTable, element);\n",
              "        const docLink = document.createElement('div');\n",
              "        docLink.innerHTML = docLinkHtml;\n",
              "        element.appendChild(docLink);\n",
              "      }\n",
              "    </script>\n",
              "  </div>\n",
              "\n",
              "    </div>\n",
              "  </div>\n"
            ],
            "application/vnd.google.colaboratory.intrinsic+json": {
              "type": "dataframe",
              "variable_name": "data_df",
              "repr_error": "Out of range float values are not JSON compliant: nan"
            }
          },
          "metadata": {},
          "execution_count": 25
        }
      ]
    },
    {
      "cell_type": "code",
      "source": [
        "from tqdm import tqdm\n",
        "import pandas as pd\n",
        "\n",
        "# Инициализация DataFrame с нужными колонками\n",
        "data_df = pd.DataFrame(columns=['page_id', 'url', 'phones', 'emails', 'addresses', 'persons', 'organizations'])\n",
        "\n",
        "# Обработка с прогресс-баром\n",
        "for i in tqdm(range(df.shape[0]), desc=\"Обработка страниц\", leave=False):\n",
        "    doc = clean_pipeline(df['html'][i])\n",
        "    contacts = extract_contacts(doc)\n",
        "\n",
        "    # Добавляем данные через словарь\n",
        "    data_df.loc[len(data_df)] = {\n",
        "        'page_id': i + 1,\n",
        "        'url': df['link'][i],\n",
        "        'phones': contacts['phones'],\n",
        "        'emails': contacts['emails'],\n",
        "        'addresses': contacts['addresses'],\n",
        "        'persons': contacts['persons'],\n",
        "        'organizations': contacts['organizations']\n",
        "    }"
      ],
      "metadata": {
        "colab": {
          "base_uri": "https://localhost:8080/"
        },
        "collapsed": true,
        "id": "HqT-LJ0Y7NsD",
        "outputId": "a1a33391-eb44-493f-9702-86146355f2cc"
      },
      "execution_count": 26,
      "outputs": [
        {
          "output_type": "stream",
          "name": "stderr",
          "text": []
        }
      ]
    },
    {
      "cell_type": "code",
      "source": [
        "data_df.to_csv('extracted_entities.csv', index=False, encoding='utf-8-sig')"
      ],
      "metadata": {
        "id": "RBvt_tHV-xnw"
      },
      "execution_count": 27,
      "outputs": []
    },
    {
      "cell_type": "code",
      "source": [
        "from google.colab import drive\n",
        "import shutil\n",
        "\n",
        "# Монтируем Google Drive\n",
        "drive.mount('/content/drive')\n",
        "\n",
        "# Копируем файл в нужную папку на Drive\n",
        "shutil.copy('/content/extracted_entities.csv', '/content/drive/MyDrive/')\n",
        "\n",
        "print(\"Файл успешно сохранён в Google Drive!\")"
      ],
      "metadata": {
        "colab": {
          "base_uri": "https://localhost:8080/"
        },
        "id": "zauLS1zxEmF-",
        "outputId": "4e65d181-8cd2-43f3-aa93-568eb04bb0cc"
      },
      "execution_count": 28,
      "outputs": [
        {
          "output_type": "stream",
          "name": "stdout",
          "text": [
            "Drive already mounted at /content/drive; to attempt to forcibly remount, call drive.mount(\"/content/drive\", force_remount=True).\n",
            "Файл успешно сохранён в Google Drive!\n"
          ]
        }
      ]
    },
    {
      "cell_type": "code",
      "source": [
        "# from transformers import pipeline\n",
        "# import torch\n",
        "\n",
        "# ner_pipeline = pipeline(\n",
        "#     \"ner\",\n",
        "#     model=\"Gherman/bert-base-NER-Russian\", # Короче это просто копия сберовской модели\n",
        "#     device=0 if torch.cuda.is_available() else -1,\n",
        "#     aggregation_strategy=\"simple\"\n",
        "# )"
      ],
      "metadata": {
        "id": "xhY-L7DpiKYz"
      },
      "execution_count": 29,
      "outputs": []
    },
    {
      "cell_type": "code",
      "source": [
        "# from transformers import AutoTokenizer\n",
        "\n",
        "# tokenizer = AutoTokenizer.from_pretrained(\"Gherman/bert-base-NER-Russian\")"
      ],
      "metadata": {
        "id": "-Fi4Jp1Ouk63"
      },
      "execution_count": 30,
      "outputs": []
    },
    {
      "cell_type": "code",
      "source": [
        "# def process_long_text(text, window_size=400, stride=50):\n",
        "#     tokens = tokenizer.tokenize(text)\n",
        "#     results = []\n",
        "\n",
        "#     for i in range(0, len(tokens), stride):\n",
        "#         window = tokens[i:i+window_size]\n",
        "#         window_text = tokenizer.convert_tokens_to_string(window)\n",
        "#         results.extend(ner_pipeline(window_text))\n",
        "\n",
        "#     return results"
      ],
      "metadata": {
        "id": "yBzli6FvueyV"
      },
      "execution_count": 31,
      "outputs": []
    },
    {
      "cell_type": "code",
      "source": [
        "# process_long_text('Касюк Вадим поехал в Москву чтобы позвонить +79044691080 на фабрику')"
      ],
      "metadata": {
        "id": "0iq-2z4ohqIE"
      },
      "execution_count": 32,
      "outputs": []
    },
    {
      "cell_type": "markdown",
      "source": [
        "Честно говоря, я уже устал пробовать разные модельки, поэтому просто вернусь к spacy и все"
      ],
      "metadata": {
        "id": "cCOfXlmD1DkD"
      }
    }
  ]
}